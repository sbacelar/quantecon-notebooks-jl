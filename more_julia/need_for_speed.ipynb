version https://git-lfs.github.com/spec/v1
oid sha256:3003f92d2af86ab38fc6343b0d9e465bc62c056da5bfd364e474d9346a11995e
size 41182

version https://git-lfs.github.com/spec/v1
oid sha256:24324ed2e790beba61ae2f8eae09db744f241f1c3a23fbc23d1edfb8f8e2ffab
size 5483

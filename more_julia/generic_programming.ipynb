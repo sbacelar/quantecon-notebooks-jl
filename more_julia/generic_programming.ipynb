{
 "cells": [
  {
   "cell_type": "markdown",
   "metadata": {},
   "source": [
    "\n",
    "<a id='generic-programming'></a>\n",
    "<div id=\"qe-notebook-header\" style=\"text-align:right;\">\n",
    "        <a href=\"https://quantecon.org/\" title=\"quantecon.org\">\n",
    "                <img style=\"width:250px;display:inline;\" src=\"https://assets.quantecon.org/img/qe-menubar-logo.svg\" alt=\"QuantEcon\">\n",
    "        </a>\n",
    "</div>"
   ]
  },
  {
   "cell_type": "markdown",
   "metadata": {},
   "source": [
    "# Generic Programming"
   ]
  },
  {
   "cell_type": "markdown",
   "metadata": {},
   "source": [
    "## Contents\n",
    "\n",
    "- [Generic Programming](#Generic-Programming)  \n",
    "  - [Overview](#Overview)  \n",
    "  - [Exploring Type Trees](#Exploring-Type-Trees)  \n",
    "  - [Distributions](#Distributions)  \n",
    "  - [Numbers and Algebraic Structures](#Numbers-and-Algebraic-Structures)  \n",
    "  - [Reals and Algebraic Structures](#Reals-and-Algebraic-Structures)  \n",
    "  - [Functions, and Function-Like Types](#Functions,-and-Function-Like-Types)  \n",
    "  - [Limitations of Dispatching on Abstract Types](#Limitations-of-Dispatching-on-Abstract-Types)  "
   ]
  },
  {
   "cell_type": "markdown",
   "metadata": {},
   "source": [
    "> I find OOP methodologically wrong. It starts with classes. It is as if mathematicians would start with axioms. You do not start with axioms - you start with proofs. Only when you have found a bunch of related proofs, can you come up with axioms. You end with axioms. The same thing is true in programming: you have to start with interesting algorithms. Only when you understand them well, can you come up with an interface that will let them work. – Alexander Stepanov"
   ]
  },
  {
   "cell_type": "markdown",
   "metadata": {},
   "source": [
    "## Overview\n",
    "\n",
    "In this lecture we delve more deeply into the structure of Julia, and in particular into\n",
    "\n",
    "- abstract and concrete types  \n",
    "- the type tree  \n",
    "- designing and using generic interfaces  \n",
    "- the role of generic interfaces in Julia performance  \n",
    "\n",
    "\n",
    "Understanding them will help you\n",
    "\n",
    "- form a “mental model” of the Julia language  \n",
    "- design code that matches the “white-board” mathematics  \n",
    "- create code that can use (and be used by) a variety of other packages  \n",
    "- write “well organized” Julia code that’s easy to read, modify, maintain and debug  \n",
    "- improve the speed at which your code runs  \n",
    "\n",
    "\n",
    "(Special thank you to Jeffrey Sarnoff)"
   ]
  },
  {
   "cell_type": "markdown",
   "metadata": {},
   "source": [
    "### Generic Programming is an Attitude\n",
    "\n",
    "From *Mathematics to Generic Programming* [[SR14]](zreferences.html#stepanov-mathematics-2014)\n",
    "\n",
    "> Generic programming is an approach to programming that focuses on designing algorithms and data structures so that they work in the most general setting without loss of efficiency… Generic programming is more of an *attitude* toward programming than a particular set of tools.\n",
    "\n",
    "\n",
    "In that sense, it is important to think of generic programming as an interactive approach to uncover generality without compromising performance rather than as a set of rules\n",
    "\n",
    "As we will see, the core approach is to treat data structures and algorithms as loosely coupled, and is in direct contrast to the [is-a](https://en.wikipedia.org/wiki/Is-a)  approach of object-oriented programming\n",
    "\n",
    "This lecture has the dual role of giving an introduction into the design of generic algorithms and describing how Julia helps make that possible"
   ]
  },
  {
   "cell_type": "markdown",
   "metadata": {},
   "source": [
    "### Setup"
   ]
  },
  {
   "cell_type": "code",
   "execution_count": 1,
   "metadata": {
    "hide-output": false
   },
   "outputs": [
    {
     "name": "stdout",
     "output_type": "stream",
     "text": [
      "\u001b[92m\u001b[1mDownloading \u001b[22m\u001b[39mQuantEcon/QuantEconLecturePackages-v0.9.8 → /home/jovyan/work/_build/jupyter/executed/more_julia/.projects\n"
     ]
    },
    {
     "name": "stderr",
     "output_type": "stream",
     "text": [
      "#=#=#                                                                          \r"
     ]
    },
    {
     "name": "stderr",
     "output_type": "stream",
     "text": [
      "##O#- #                                                                        \r"
     ]
    },
    {
     "name": "stderr",
     "output_type": "stream",
     "text": [
      "##O=#  #                                                                       \r"
     ]
    },
    {
     "name": "stderr",
     "output_type": "stream",
     "text": [
      "#=#=-#  #                                                                      \r"
     ]
    },
    {
     "name": "stderr",
     "output_type": "stream",
     "text": [
      "-#O#- #   #                                                                    \r\n"
     ]
    },
    {
     "name": "stdout",
     "output_type": "stream",
     "text": [
      "\u001b[92m\u001b[1mInstantiating \u001b[22m\u001b[39m/home/jovyan/work/_build/jupyter/executed/more_julia/.projects/QuantEconLecturePackages-v0.9.8\n",
      "\u001b[32m\u001b[1m  Updating\u001b[22m\u001b[39m"
     ]
    },
    {
     "name": "stdout",
     "output_type": "stream",
     "text": [
      " registry at `/opt/julia/registries/General`\n",
      "\u001b[32m\u001b[1m  Updating\u001b[22m\u001b[39m"
     ]
    },
    {
     "name": "stdout",
     "output_type": "stream",
     "text": [
      " git-repo `https://github.com/JuliaRegistries/General.git`\n",
      "\u001b[?25l"
     ]
    },
    {
     "name": "stdout",
     "output_type": "stream",
     "text": [
      "    \u001b[36m\u001b[1mFetching:\u001b[22m\u001b[39m [>                                        ]  0.0 %\r",
      "    \u001b[36m\u001b[1mFetching:\u001b[22m\u001b[39m [==>                                      ]  2.6 %\r",
      "    \u001b[36m\u001b[1mFetching:\u001b[22m\u001b[39m [===>                                     ]  5.1 %\r",
      "    \u001b[36m\u001b[1mFetching:\u001b[22m\u001b[39m [====>                                    ]  7.7 %\r",
      "    \u001b[36m\u001b[1mFetching:\u001b[22m\u001b[39m [=====>                                   ]  10.3 %\r",
      "    \u001b[36m\u001b[1mFetching:\u001b[22m\u001b[39m [======>                                  ]  12.8 %\r",
      "    \u001b[36m\u001b[1mFetching:\u001b[22m\u001b[39m [=======>                                 ]  15.4 %\r",
      "    \u001b[36m\u001b[1mFetching:\u001b[22m\u001b[39m [========>                                ]  17.9 %\r",
      "    \u001b[36m\u001b[1mFetching:\u001b[22m\u001b[39m [=========>                               ]  20.5 %\r",
      "    \u001b[36m\u001b[1mFetching:\u001b[22m\u001b[39m [==========>                              ]  23.1 %\r",
      "    \u001b[36m\u001b[1mFetching:\u001b[22m\u001b[39m [===========>                             ]  25.6 %\r",
      "    \u001b[36m\u001b[1mFetching:\u001b[22m\u001b[39m [============>                            ]  28.2 %\r",
      "    \u001b[36m\u001b[1mFetching:\u001b[22m\u001b[39m [=============>                           ]  30.8 %\r",
      "    \u001b[36m\u001b[1mFetching:\u001b[22m\u001b[39m [==============>                          ]  33.3 %\r",
      "    \u001b[36m\u001b[1mFetching:\u001b[22m\u001b[39m [===============>                         ]  35.9 %\r",
      "    \u001b[36m\u001b[1mFetching:\u001b[22m\u001b[39m [================>                        ]  38.5 %\r",
      "    \u001b[36m\u001b[1mFetching:\u001b[22m\u001b[39m [=================>                       ]  41.0 %\r",
      "    \u001b[36m\u001b[1mFetching:\u001b[22m\u001b[39m [==================>                      ]  43.6 %\r",
      "    \u001b[36m\u001b[1mFetching:\u001b[22m\u001b[39m [===================>                     ]  46.2 %\r",
      "    \u001b[36m\u001b[1mFetching:\u001b[22m\u001b[39m [====================>                    ]  48.7 %\r",
      "    \u001b[36m\u001b[1mFetching:\u001b[22m\u001b[39m [=====================>                   ]  51.3 %\r",
      "    \u001b[36m\u001b[1mFetching:\u001b[22m\u001b[39m [======================>                  ]  53.8 %\r",
      "    \u001b[36m\u001b[1mFetching:\u001b[22m\u001b[39m [=======================>                 ]  56.4 %\r",
      "    \u001b[36m\u001b[1mFetching:\u001b[22m\u001b[39m [========================>                ]  59.0 %\r",
      "    \u001b[36m\u001b[1mFetching:\u001b[22m\u001b[39m [=========================>               ]  61.5 %\r",
      "    \u001b[36m\u001b[1mFetching:\u001b[22m\u001b[39m [==========================>              ]  64.1 %\r",
      "    \u001b[36m\u001b[1mFetching:\u001b[22m\u001b[39m [===========================>             ]  66.7 %\r",
      "    \u001b[36m\u001b[1mFetching:\u001b[22m\u001b[39m [============================>            ]  69.2 %\r",
      "    \u001b[36m\u001b[1mFetching:\u001b[22m\u001b[39m [=============================>           ]  71.8 %\r",
      "    \u001b[36m\u001b[1mFetching:\u001b[22m\u001b[39m [==============================>          ]  74.4 %\r",
      "    \u001b[36m\u001b[1mFetching:\u001b[22m\u001b[39m [===============================>         ]  76.9 %\r",
      "    \u001b[36m\u001b[1mFetching:\u001b[22m\u001b[39m [================================>        ]  79.5 %\r",
      "    \u001b[36m\u001b[1mFetching:\u001b[22m\u001b[39m [=================================>       ]  82.1 %\r",
      "    \u001b[36m\u001b[1mFetching:\u001b[22m\u001b[39m [==================================>      ]  84.6 %\r",
      "    \u001b[36m\u001b[1mFetching:\u001b[22m\u001b[39m [===================================>     ]  87.2 %\r",
      "    \u001b[36m\u001b[1mFetching:\u001b[22m\u001b[39m [====================================>    ]  89.7 %\r",
      "    \u001b[36m\u001b[1mFetching:\u001b[22m\u001b[39m [=====================================>   ]  92.3 %\r",
      "    \u001b[36m\u001b[1mFetching:\u001b[22m\u001b[39m [======================================>  ]  94.9 %\r",
      "    \u001b[36m\u001b[1mFetching:\u001b[22m\u001b[39m [=======================================> ]  97.4 %\r",
      "    \u001b[36m\u001b[1mFetching:\u001b[22m\u001b[39m [========================================>]  100.0 %\r"
     ]
    },
    {
     "name": "stdout",
     "output_type": "stream",
     "text": [
      "\u001b[2K\u001b[?25h"
     ]
    },
    {
     "name": "stdout",
     "output_type": "stream",
     "text": [
      "\u001b[32m\u001b[1mPrecompiling\u001b[22m\u001b[39m project...\n"
     ]
    }
   ],
   "source": [
    "using InstantiateFromURL\n",
    "activate_github(\"QuantEcon/QuantEconLecturePackages\", tag = \"v0.9.8\");"
   ]
  },
  {
   "cell_type": "code",
   "execution_count": 2,
   "metadata": {
    "hide-output": true
   },
   "outputs": [],
   "source": [
    "using LinearAlgebra, Statistics, Compat\n",
    "using Distributions, Plots, QuadGK, Polynomials, Interpolations"
   ]
  },
  {
   "cell_type": "markdown",
   "metadata": {},
   "source": [
    "## Exploring Type Trees\n",
    "\n",
    "The connection between data structures and the algorithms which operate on them is handled by the type system\n",
    "\n",
    "Concrete types (i.e., `Float64` or `Array{Float64, 2}`) are the data structures we apply an algorithm to, and the abstract types (e.g. the corresponding `Number` and `AbstractArray`) provide the mapping between a set of related data structures and algorithms"
   ]
  },
  {
   "cell_type": "code",
   "execution_count": 3,
   "metadata": {
    "hide-output": false
   },
   "outputs": [
    {
     "name": "stdout",
     "output_type": "stream",
     "text": [
      "(x, y, z) = (1, Normal{Float64}(μ=0.0, σ=1.0), \"foo\")\n",
      "(typeof(x), typeof(y), typeof(z)) = "
     ]
    },
    {
     "name": "stdout",
     "output_type": "stream",
     "text": [
      "(Int64, Normal{Float64}, String)\n",
      "supertype(typeof(x)) = Signed\n",
      "typeof(x) |> supertype = Signed\n",
      "supertype(typeof(y)) = Distribution{Univariate,Continuous}\n",
      "typeof(z) |> supertype = AbstractString\n",
      "typeof(x) <: Any = true"
     ]
    },
    {
     "name": "stdout",
     "output_type": "stream",
     "text": [
      "\n"
     ]
    }
   ],
   "source": [
    "using Distributions\n",
    "x = 1\n",
    "y = Normal()\n",
    "z = \"foo\"\n",
    "@show x, y, z\n",
    "@show typeof(x), typeof(y), typeof(z)\n",
    "@show supertype(typeof(x))\n",
    "\n",
    "# pipe operator, |>, is is equivalent\n",
    "@show typeof(x) |> supertype\n",
    "@show supertype(typeof(y))\n",
    "@show typeof(z) |> supertype\n",
    "@show typeof(x) <: Any;"
   ]
  },
  {
   "cell_type": "markdown",
   "metadata": {},
   "source": [
    "Beyond the `typeof` and `supertype` functions, a few other useful tools for analyzing the tree of types are discussed in the [introduction to types lecture](getting_started_julia/introduction_to_types.html)"
   ]
  },
  {
   "cell_type": "code",
   "execution_count": 4,
   "metadata": {
    "hide-output": false
   },
   "outputs": [
    {
     "name": "stdout",
     "output_type": "stream",
     "text": [
      "Int64 <: Signed <: Integer <: Real <: Number <: Any"
     ]
    }
   ],
   "source": [
    "using Base: show_supertypes # import the function from the `Base` package\n",
    "\n",
    "show_supertypes(Int64)"
   ]
  },
  {
   "cell_type": "code",
   "execution_count": 5,
   "metadata": {
    "hide-output": false
   },
   "outputs": [
    {
     "data": {
      "text/plain": [
       "3-element Array{Any,1}:\n",
       " Bool    \n",
       " Signed  \n",
       " Unsigned"
      ]
     },
     "execution_count": 5,
     "metadata": {},
     "output_type": "execute_result"
    }
   ],
   "source": [
    "subtypes(Integer)"
   ]
  },
  {
   "cell_type": "markdown",
   "metadata": {},
   "source": [
    "Using the `subtypes` function, we can write an algorithm to traverse the type tree below any time `t` – with the confidence that all types support `subtypes`"
   ]
  },
  {
   "cell_type": "code",
   "execution_count": 6,
   "metadata": {
    "hide-output": false
   },
   "outputs": [
    {
     "data": {
      "text/plain": [
       "subtypetree (generic function with 3 methods)"
      ]
     },
     "execution_count": 6,
     "metadata": {},
     "output_type": "execute_result"
    }
   ],
   "source": [
    "#  from https://github.com/JuliaLang/julia/issues/24741\n",
    "function subtypetree(t, level=1, indent=4)\n",
    "        if level == 1\n",
    "            println(t)\n",
    "        end\n",
    "        for s in subtypes(t)\n",
    "            println(join(fill(\" \", level * indent)) * string(s))  # print type\n",
    "            subtypetree(s, level+1, indent)  # recursively print the next type, indenting\n",
    "        end\n",
    "    end"
   ]
  },
  {
   "cell_type": "markdown",
   "metadata": {},
   "source": [
    "Applying this to `Number`, we see the tree of types currently loaded"
   ]
  },
  {
   "cell_type": "code",
   "execution_count": 7,
   "metadata": {
    "hide-output": false
   },
   "outputs": [
    {
     "name": "stdout",
     "output_type": "stream",
     "text": [
      "Number\n"
     ]
    },
    {
     "name": "stdout",
     "output_type": "stream",
     "text": [
      "    Complex\n",
      "    Real\n"
     ]
    },
    {
     "name": "stdout",
     "output_type": "stream",
     "text": [
      "        AbstractFloat\n"
     ]
    },
    {
     "name": "stdout",
     "output_type": "stream",
     "text": [
      "            BigFloat\n",
      "            Float16\n",
      "            Float32\n",
      "            Float64\n",
      "        AbstractIrrational\n",
      "            Irrational\n",
      "        FixedPointNumbers.FixedPoint\n"
     ]
    },
    {
     "name": "stdout",
     "output_type": "stream",
     "text": [
      "            FixedPointNumbers.Fixed\n",
      "            FixedPointNumbers.Normed\n",
      "        Integer\n",
      "            Bool\n",
      "            Signed\n"
     ]
    },
    {
     "name": "stdout",
     "output_type": "stream",
     "text": [
      "                BigInt\n",
      "                Int128\n",
      "                Int16\n",
      "                Int32\n",
      "                Int64\n",
      "                Int8\n",
      "            Unsigned\n"
     ]
    },
    {
     "name": "stdout",
     "output_type": "stream",
     "text": [
      "                UInt128\n",
      "                UInt16\n",
      "                UInt32\n",
      "                UInt64\n",
      "                UInt8\n",
      "        Rational\n",
      "        Ratios.SimpleRatio\n"
     ]
    }
   ],
   "source": [
    "subtypetree(Number) # warning: do not use this function on ``Any``!"
   ]
  },
  {
   "cell_type": "markdown",
   "metadata": {},
   "source": [
    "For the most part, all of the “leaves” will be concrete types"
   ]
  },
  {
   "cell_type": "markdown",
   "metadata": {},
   "source": [
    "### Any\n",
    "\n",
    "At the root of all types is `Any`\n",
    "\n",
    "There are a few functions that work in the “most generalized” context: usable with anything that you can construct or access from other packages\n",
    "\n",
    "We have already called `typeof`, `show` and `supertype` – which will apply to a custom `struct` type since `MyType <: Any`"
   ]
  },
  {
   "cell_type": "code",
   "execution_count": 8,
   "metadata": {
    "hide-output": false
   },
   "outputs": [
    {
     "name": "stdout",
     "output_type": "stream",
     "text": [
      "myval = MyType(2.0)\n",
      "typeof(myval) = MyType\n",
      "supertype(typeof(myval)) = Any\n",
      "typeof(myval) <: Any = true\n"
     ]
    }
   ],
   "source": [
    "# custom type\n",
    "struct MyType\n",
    "    a::Float64\n",
    "end\n",
    "\n",
    "myval = MyType(2.0)\n",
    "@show myval\n",
    "@show typeof(myval)\n",
    "@show supertype(typeof(myval))\n",
    "@show typeof(myval) <: Any;"
   ]
  },
  {
   "cell_type": "markdown",
   "metadata": {},
   "source": [
    "Here we see another example of generic programming: every type `<: Any` supports the `@show` macro, which in turn, relies on the `show` function\n",
    "\n",
    "The `@show` macro (1) prints the expression as a string; (2) evaluates the expression; and (3) calls the `show` function on the returned values\n",
    "\n",
    "To see this with built-in types"
   ]
  },
  {
   "cell_type": "code",
   "execution_count": 9,
   "metadata": {
    "hide-output": false
   },
   "outputs": [
    {
     "name": "stdout",
     "output_type": "stream",
     "text": [
      "[1, 2]"
     ]
    }
   ],
   "source": [
    "x = [1, 2]\n",
    "show(x)"
   ]
  },
  {
   "cell_type": "markdown",
   "metadata": {},
   "source": [
    "The `Any` type is useful, because it provides a fall-back implementation for a variety of functions\n",
    "\n",
    "Hence, calling `show` on our custom type dispatches to the fallback function"
   ]
  },
  {
   "cell_type": "code",
   "execution_count": 10,
   "metadata": {
    "hide-output": false
   },
   "outputs": [
    {
     "name": "stdout",
     "output_type": "stream",
     "text": [
      "MyType(2.0)"
     ]
    }
   ],
   "source": [
    "myval = MyType(2.0)\n",
    "show(myval)"
   ]
  },
  {
   "cell_type": "markdown",
   "metadata": {},
   "source": [
    "The default fallback implementation used by Julia would be roughly equivalent to"
   ]
  },
  {
   "cell_type": "markdown",
   "metadata": {
    "hide-output": false
   },
   "source": [
    "```julia\n",
    "function show(io::IO, x)\n",
    "    str = string(x)\n",
    "    print(io, str)\n",
    "end\n",
    "```\n"
   ]
  },
  {
   "cell_type": "markdown",
   "metadata": {},
   "source": [
    "To implement a specialized implementation of the `show` function for our type, rather than using this fallback"
   ]
  },
  {
   "cell_type": "code",
   "execution_count": 11,
   "metadata": {
    "hide-output": false
   },
   "outputs": [
    {
     "name": "stdout",
     "output_type": "stream",
     "text": [
      "(MyType.a = 2.0)"
     ]
    }
   ],
   "source": [
    "import Base.show  # to extend an existing function\n",
    "\n",
    "function show(io::IO, x::MyType)\n",
    "    str = \"(MyType.a = $(x.a))\"  # custom display\n",
    "    print(io, str)\n",
    "end\n",
    "show(myval)  # it creates an IO value first and then calls the above show"
   ]
  },
  {
   "cell_type": "markdown",
   "metadata": {},
   "source": [
    "At that point, we can use the `@show` macro, which in turn calls `show`"
   ]
  },
  {
   "cell_type": "code",
   "execution_count": 12,
   "metadata": {
    "hide-output": false
   },
   "outputs": [
    {
     "name": "stdout",
     "output_type": "stream",
     "text": [
      "myval = (MyType.a = 2.0)\n"
     ]
    }
   ],
   "source": [
    "@show myval;"
   ]
  },
  {
   "cell_type": "markdown",
   "metadata": {},
   "source": [
    "Here we see another example of generic programming: any type with a `show` function works with `@show`\n",
    "\n",
    "Layering of functions (e.g. `@show` calling `show`) with a “fallback” implementation makes it possible for new types to be designed and only specialized where necessary"
   ]
  },
  {
   "cell_type": "markdown",
   "metadata": {},
   "source": [
    "### Unlearning Object Oriented (OO) Programming (Advanced)\n",
    "\n",
    "See [Types](https://docs.julialang.org/en/v1/manual/types/#man-types-1) for more on OO vs. generic types\n",
    "\n",
    "If you have never used programming languages such as C++, Java, and Python, then the type hierarchies above may seem unfamiliar and abstract\n",
    "\n",
    "In that case, keep an open mind that this discussion of abstract concepts will have practical consequences, but there is no need to read this section\n",
    "\n",
    "Otherwise, if you have used object-oriented programming (OOP) in those languages, then some of the concepts in these lecture notes will appear familiar\n",
    "\n",
    "**Don’t be fooled!**\n",
    "\n",
    "The superficial similarity can lead to misuse: types are *not* classes with poor encapsulation, and methods are *not* the equivalent to member functions with the order of arguments swapped\n",
    "\n",
    "In particular, previous OO knowledge often leads people to write Julia code such as"
   ]
  },
  {
   "cell_type": "code",
   "execution_count": 13,
   "metadata": {
    "hide-output": false
   },
   "outputs": [
    {
     "name": "stdout",
     "output_type": "stream",
     "text": [
      "m.algorithmcalculation = 7.199999999999999\n"
     ]
    }
   ],
   "source": [
    "# BAD! Replicating an OO design in Julia\n",
    "mutable struct MyModel\n",
    "    a::Float64\n",
    "    b::Float64\n",
    "    algorithmcalculation::Float64\n",
    "\n",
    "    MyModel(a, b) = new(a, b, 0.0) # an inner constructor\n",
    "end\n",
    "\n",
    "function myalgorithm!(m::MyModel, x)\n",
    "    m.algorithmcalculation = m.a + m.b + x # some algorithm\n",
    "end\n",
    "\n",
    "function set_a!(m::MyModel, a)\n",
    "    m.a = a\n",
    "end\n",
    "\n",
    "m = MyModel(2.0, 3.0)\n",
    "x = 0.1\n",
    "set_a!(m, 4.1)\n",
    "myalgorithm!(m, x)\n",
    "@show m.algorithmcalculation;"
   ]
  },
  {
   "cell_type": "markdown",
   "metadata": {},
   "source": [
    "You may think to yourself that the above code is similar to OO, except that you\n",
    "* reverse the first argument, i.e., `myalgorithm!(m, x)` instead of the object-oriented `m.myalgorithm!(x)`\n",
    "* cannot control encapsulation of the fields `a`, `b`, but you can add getter/setters like `set_a`\n",
    "* do not have concrete inheritance\n",
    "\n",
    "While this sort of programming is possible, it is (verbosely) missing the point of Julia and the power of generic programming\n",
    "\n",
    "When programming in Julia\n",
    "\n",
    "> - there is no [encapsulation](https://en.wikipedia.org/wiki/Encapsulation_%28computer_programming%29) and most custom types you create will be immutable  \n",
    "- [Polymorphism](https://en.wikipedia.org/wiki/Polymorphism_%28computer_science%29) is achieved without anything resembling OOP [inheritance](https://en.wikipedia.org/wiki/Inheritance_%28object-oriented_programming%29)  \n",
    "- [Abstraction](https://en.wikipedia.org/wiki/Abstraction_%28computer_science%29#Abstraction_in_object_oriented_programming) is implemented by keeping the data and algorithms that operate on them as orthogonal as possible – in direct contrast to OOP’s association of algorithms and methods directly with a type in a tree  \n",
    "- The supertypes in Julia are simply used for selecting which specialized algorithm to use (i.e., part of generic polymorphism) and have nothing to do with OO inheritance  \n",
    "- The looseness that accompanies keeping algorithms and data structures as orthogonal as possible makes it easier to discover commonality in the design  "
   ]
  },
  {
   "cell_type": "markdown",
   "metadata": {},
   "source": [
    "#### Iterative Design of Abstractions\n",
    "\n",
    "As its essence, the design of generic software is that you will start with creating algorithms which are largely orthogonal to concrete types\n",
    "\n",
    "In the process, you will discover commonality which leads to abstract types with informally defined functions operating on them\n",
    "\n",
    "Given the abstract types and commonality, you then refine the algorithms as they are more limited or more general than you initially thought\n",
    "\n",
    "This approach is in direct contrast to object-oriented design and analysis ([OOAD](https://en.wikipedia.org/wiki/Object-oriented_analysis_and_design))\n",
    "\n",
    "With that, where you specify a taxonomies of types, add operations to those types, and then move down to various levels of specialization (where algorithms are embedded at points within the taxonomy, and potentially specialized with inheritance)\n",
    "\n",
    "In the examples that follow, we will show for exposition the hierarchy of types and the algorithms operating on them, but the reality is that the algorithms are often designed first, and the abstact types came later"
   ]
  },
  {
   "cell_type": "markdown",
   "metadata": {},
   "source": [
    "## Distributions\n",
    "\n",
    "First, consider working with “distributions”\n",
    "\n",
    "Algorithms using distributions might (1) draw random numbers for Monte-Carlo methods; and (2) calculate the pdf or cdf – if it is defined\n",
    "\n",
    "The process of using concrete distributions in these sorts of applications led\n",
    "to the creation of the [Distributions.jl](https://github.com/JuliaStats/Distributions.jl) package\n",
    "\n",
    "Let’s examine the tree of types for a Normal distribution"
   ]
  },
  {
   "cell_type": "code",
   "execution_count": 14,
   "metadata": {
    "hide-output": false
   },
   "outputs": [
    {
     "name": "stdout",
     "output_type": "stream",
     "text": [
      "d1 = Normal{Float64}(μ=1.0, σ=2.0)\n",
      "Normal{Float64} <: Distribution{Univariate,Continuous} <: Sampleable{Univariate,Continuous} <: Any"
     ]
    }
   ],
   "source": [
    "using Distributions\n",
    "d1 = Normal(1.0, 2.0) # an example type to explore\n",
    "@show d1\n",
    "show_supertypes(typeof(d1))"
   ]
  },
  {
   "cell_type": "markdown",
   "metadata": {},
   "source": [
    "The `Sampleable{Univariate,Continuous}` type has a limited number of functions, chiefly the ability to draw a random number"
   ]
  },
  {
   "cell_type": "code",
   "execution_count": 15,
   "metadata": {
    "hide-output": false
   },
   "outputs": [
    {
     "name": "stdout",
     "output_type": "stream",
     "text": [
      "rand(d1) = 1.6288657602221326\n"
     ]
    }
   ],
   "source": [
    "@show rand(d1);"
   ]
  },
  {
   "cell_type": "markdown",
   "metadata": {},
   "source": [
    "The purpose of that abstract type is to provide an interface for drawing from a\n",
    "variety of distributions, some of which may not have a well-defined predefined pdf\n",
    "\n",
    "If you were writing a function to simulate a stochastic process with arbitrary\n",
    "iid shocks, where you did not need to assume an existing pdf etc., this is a natural candidate\n",
    "\n",
    "For example, to simulate $ x_{t+1} = a x_t + b \\epsilon_{t+1} $ where\n",
    "$ \\epsilon \\sim D $ for some $ D $, which allows drawing random values"
   ]
  },
  {
   "cell_type": "code",
   "execution_count": 16,
   "metadata": {
    "hide-output": false
   },
   "outputs": [
    {
     "name": "stdout",
     "output_type": "stream",
     "text": [
      "simulateprocess(0.0, d=Normal(0.2, 2.0)) = [0.0, -1.70654, -0.571571, -2.28534, 2.35964, 4.48561]\n"
     ]
    }
   ],
   "source": [
    "function simulateprocess(x₀; a = 1.0, b = 1.0, N = 5, d::Sampleable{Univariate,Continuous})\n",
    "    x = zeros(typeof(x₀), N+1) # preallocate vector, careful on the type\n",
    "    x[1] = x₀\n",
    "    for t in 2:N+1\n",
    "        x[t] = a * x[t-1] + b * rand(d) # draw\n",
    "    end\n",
    "    return x\n",
    "end\n",
    "@show simulateprocess(0.0, d=Normal(0.2, 2.0));"
   ]
  },
  {
   "cell_type": "markdown",
   "metadata": {},
   "source": [
    "The `Sampleable{Univariate,Continuous}` and, especially, the `Sampleable{Multivariate,Continuous}` abstract types are useful generic interfaces for Monte-Carlo and Bayesian methods\n",
    "\n",
    "Moving down the tree, the `Distributions{Univariate, Continuous}` abstract type has other functions we can use for generic algorithms operating on distributions\n",
    "\n",
    "These match the mathematics, such as `pdf`, `cdf`, `quantile`, `support`, `minimum`, `maximum`, etc."
   ]
  },
  {
   "cell_type": "code",
   "execution_count": 17,
   "metadata": {
    "hide-output": false
   },
   "outputs": [
    {
     "name": "stdout",
     "output_type": "stream",
     "text": [
      "d1 = Normal{Float64}(μ=1.0, σ=2.0)\n",
      "d2 = "
     ]
    },
    {
     "name": "stdout",
     "output_type": "stream",
     "text": [
      "Exponential{Float64}(θ=0.1)\n",
      "supertype(typeof(d1)) = Distribution{Univariate,Continuous}\n",
      "supertype(typeof(d2)) = Distribution{Univariate,Continuous}\n",
      "pdf(d1, 0.1) = 0.18026348123082397\n",
      "pdf(d2, 0.1) = 3.6787944117144233\n",
      "cdf(d1, 0.1) = 0.32635522028792\n",
      "cdf(d2, 0.1) = 0.6321205588285577\n"
     ]
    },
    {
     "name": "stdout",
     "output_type": "stream",
     "text": [
      "support(d1) = RealInterval(-Inf, Inf)\n",
      "support(d2) = RealInterval(0.0, Inf)\n",
      "minimum(d1) = -Inf\n",
      "minimum(d2) = 0.0\n",
      "maximum(d1) = Inf\n",
      "maximum(d2) = Inf\n"
     ]
    }
   ],
   "source": [
    "d1 = Normal(1.0, 2.0)\n",
    "d2 = Exponential(0.1)\n",
    "@show d1\n",
    "@show d2\n",
    "@show supertype(typeof(d1))\n",
    "@show supertype(typeof(d2))\n",
    "\n",
    "@show pdf(d1, 0.1)\n",
    "@show pdf(d2, 0.1)\n",
    "@show cdf(d1, 0.1)\n",
    "@show cdf(d2, 0.1)\n",
    "@show support(d1)\n",
    "@show support(d2)\n",
    "@show minimum(d1)\n",
    "@show minimum(d2)\n",
    "@show maximum(d1)\n",
    "@show maximum(d2);"
   ]
  },
  {
   "cell_type": "markdown",
   "metadata": {},
   "source": [
    "You could create your own `Distributions{Univariate, Continuous}` type by implementing those functions – as is described in [the documentation](https://juliastats.github.io/Distributions.jl/latest/extends.html)\n",
    "\n",
    "If you fulfill all of the conditions of a particular interface, you can use algorithms from the present, past, and future  that are written for the abstract `Distributions{Univariate, Continuous}` type\n",
    "\n",
    "As an example, consider the [StatsPlots](https://github.com/JuliaPlots/StatsPlots.jl) package"
   ]
  },
  {
   "cell_type": "code",
   "execution_count": 18,
   "metadata": {
    "hide-output": false
   },
   "outputs": [
    {
     "data": {
      "image/svg+xml": [
       "<?xml version=\"1.0\" encoding=\"utf-8\"?>\n",
       "<svg xmlns=\"http://www.w3.org/2000/svg\" xmlns:xlink=\"http://www.w3.org/1999/xlink\" width=\"600\" height=\"400\" viewBox=\"0 0 2400 1600\">\n",
       "<defs>\n",
       "  <clipPath id=\"clip1200\">\n",
       "    <rect x=\"0\" y=\"0\" width=\"2000\" height=\"2000\"/>\n",
       "  </clipPath>\n",
       "</defs>\n",
       "<defs>\n",
       "  <clipPath id=\"clip1201\">\n",
       "    <rect x=\"0\" y=\"0\" width=\"2400\" height=\"1600\"/>\n",
       "  </clipPath>\n",
       "</defs>\n",
       "<polygon clip-path=\"url(#clip1201)\" points=\"\n",
       "0,1600 2400,1600 2400,0 0,0 \n",
       "  \" fill=\"#ffffff\" fill-rule=\"evenodd\" fill-opacity=\"1\"/>\n",
       "<defs>\n",
       "  <clipPath id=\"clip1202\">\n",
       "    <rect x=\"480\" y=\"0\" width=\"1681\" height=\"1600\"/>\n",
       "  </clipPath>\n",
       "</defs>\n",
       "<polygon clip-path=\"url(#clip1201)\" points=\"\n",
       "161.394,1503.47 2321.26,1503.47 2321.26,47.2441 161.394,47.2441 \n",
       "  \" fill=\"#ffffff\" fill-rule=\"evenodd\" fill-opacity=\"1\"/>\n",
       "<defs>\n",
       "  <clipPath id=\"clip1203\">\n",
       "    <rect x=\"161\" y=\"47\" width=\"2161\" height=\"1457\"/>\n",
       "  </clipPath>\n",
       "</defs>\n",
       "<polyline clip-path=\"url(#clip1203)\" style=\"stroke:#000000; stroke-width:2; stroke-opacity:0.1; fill:none\" points=\"\n",
       "  411.669,1503.47 411.669,47.2441 \n",
       "  \"/>\n",
       "<polyline clip-path=\"url(#clip1203)\" style=\"stroke:#000000; stroke-width:2; stroke-opacity:0.1; fill:none\" points=\"\n",
       "  688.727,1503.47 688.727,47.2441 \n",
       "  \"/>\n",
       "<polyline clip-path=\"url(#clip1203)\" style=\"stroke:#000000; stroke-width:2; stroke-opacity:0.1; fill:none\" points=\"\n",
       "  965.785,1503.47 965.785,47.2441 \n",
       "  \"/>\n",
       "<polyline clip-path=\"url(#clip1203)\" style=\"stroke:#000000; stroke-width:2; stroke-opacity:0.1; fill:none\" points=\"\n",
       "  1242.84,1503.47 1242.84,47.2441 \n",
       "  \"/>\n",
       "<polyline clip-path=\"url(#clip1203)\" style=\"stroke:#000000; stroke-width:2; stroke-opacity:0.1; fill:none\" points=\"\n",
       "  1519.9,1503.47 1519.9,47.2441 \n",
       "  \"/>\n",
       "<polyline clip-path=\"url(#clip1203)\" style=\"stroke:#000000; stroke-width:2; stroke-opacity:0.1; fill:none\" points=\"\n",
       "  1796.96,1503.47 1796.96,47.2441 \n",
       "  \"/>\n",
       "<polyline clip-path=\"url(#clip1203)\" style=\"stroke:#000000; stroke-width:2; stroke-opacity:0.1; fill:none\" points=\"\n",
       "  2074.02,1503.47 2074.02,47.2441 \n",
       "  \"/>\n",
       "<polyline clip-path=\"url(#clip1203)\" style=\"stroke:#000000; stroke-width:2; stroke-opacity:0.1; fill:none\" points=\"\n",
       "  161.394,1463.82 2321.26,1463.82 \n",
       "  \"/>\n",
       "<polyline clip-path=\"url(#clip1203)\" style=\"stroke:#000000; stroke-width:2; stroke-opacity:0.1; fill:none\" points=\"\n",
       "  161.394,1119.01 2321.26,1119.01 \n",
       "  \"/>\n",
       "<polyline clip-path=\"url(#clip1203)\" style=\"stroke:#000000; stroke-width:2; stroke-opacity:0.1; fill:none\" points=\"\n",
       "  161.394,774.201 2321.26,774.201 \n",
       "  \"/>\n",
       "<polyline clip-path=\"url(#clip1203)\" style=\"stroke:#000000; stroke-width:2; stroke-opacity:0.1; fill:none\" points=\"\n",
       "  161.394,429.39 2321.26,429.39 \n",
       "  \"/>\n",
       "<polyline clip-path=\"url(#clip1203)\" style=\"stroke:#000000; stroke-width:2; stroke-opacity:0.1; fill:none\" points=\"\n",
       "  161.394,84.5793 2321.26,84.5793 \n",
       "  \"/>\n",
       "<polyline clip-path=\"url(#clip1201)\" style=\"stroke:#000000; stroke-width:4; stroke-opacity:1; fill:none\" points=\"\n",
       "  161.394,1503.47 2321.26,1503.47 \n",
       "  \"/>\n",
       "<polyline clip-path=\"url(#clip1201)\" style=\"stroke:#000000; stroke-width:4; stroke-opacity:1; fill:none\" points=\"\n",
       "  161.394,1503.47 161.394,47.2441 \n",
       "  \"/>\n",
       "<polyline clip-path=\"url(#clip1201)\" style=\"stroke:#000000; stroke-width:4; stroke-opacity:1; fill:none\" points=\"\n",
       "  411.669,1503.47 411.669,1481.63 \n",
       "  \"/>\n",
       "<polyline clip-path=\"url(#clip1201)\" style=\"stroke:#000000; stroke-width:4; stroke-opacity:1; fill:none\" points=\"\n",
       "  688.727,1503.47 688.727,1481.63 \n",
       "  \"/>\n",
       "<polyline clip-path=\"url(#clip1201)\" style=\"stroke:#000000; stroke-width:4; stroke-opacity:1; fill:none\" points=\"\n",
       "  965.785,1503.47 965.785,1481.63 \n",
       "  \"/>\n",
       "<polyline clip-path=\"url(#clip1201)\" style=\"stroke:#000000; stroke-width:4; stroke-opacity:1; fill:none\" points=\"\n",
       "  1242.84,1503.47 1242.84,1481.63 \n",
       "  \"/>\n",
       "<polyline clip-path=\"url(#clip1201)\" style=\"stroke:#000000; stroke-width:4; stroke-opacity:1; fill:none\" points=\"\n",
       "  1519.9,1503.47 1519.9,1481.63 \n",
       "  \"/>\n",
       "<polyline clip-path=\"url(#clip1201)\" style=\"stroke:#000000; stroke-width:4; stroke-opacity:1; fill:none\" points=\"\n",
       "  1796.96,1503.47 1796.96,1481.63 \n",
       "  \"/>\n",
       "<polyline clip-path=\"url(#clip1201)\" style=\"stroke:#000000; stroke-width:4; stroke-opacity:1; fill:none\" points=\"\n",
       "  2074.02,1503.47 2074.02,1481.63 \n",
       "  \"/>\n",
       "<polyline clip-path=\"url(#clip1201)\" style=\"stroke:#000000; stroke-width:4; stroke-opacity:1; fill:none\" points=\"\n",
       "  161.394,1463.82 193.792,1463.82 \n",
       "  \"/>\n",
       "<polyline clip-path=\"url(#clip1201)\" style=\"stroke:#000000; stroke-width:4; stroke-opacity:1; fill:none\" points=\"\n",
       "  161.394,1119.01 193.792,1119.01 \n",
       "  \"/>\n",
       "<polyline clip-path=\"url(#clip1201)\" style=\"stroke:#000000; stroke-width:4; stroke-opacity:1; fill:none\" points=\"\n",
       "  161.394,774.201 193.792,774.201 \n",
       "  \"/>\n",
       "<polyline clip-path=\"url(#clip1201)\" style=\"stroke:#000000; stroke-width:4; stroke-opacity:1; fill:none\" points=\"\n",
       "  161.394,429.39 193.792,429.39 \n",
       "  \"/>\n",
       "<polyline clip-path=\"url(#clip1201)\" style=\"stroke:#000000; stroke-width:4; stroke-opacity:1; fill:none\" points=\"\n",
       "  161.394,84.5793 193.792,84.5793 \n",
       "  \"/>\n",
       "<g clip-path=\"url(#clip1201)\">\n",
       "<text style=\"fill:#000000; fill-opacity:1; font-family:Arial,Helvetica Neue,Helvetica,sans-serif; font-size:48px; text-anchor:middle;\" transform=\"rotate(0, 411.669, 1557.47)\" x=\"411.669\" y=\"1557.47\">-1</text>\n",
       "</g>\n",
       "<g clip-path=\"url(#clip1201)\">\n",
       "<text style=\"fill:#000000; fill-opacity:1; font-family:Arial,Helvetica Neue,Helvetica,sans-serif; font-size:48px; text-anchor:middle;\" transform=\"rotate(0, 688.727, 1557.47)\" x=\"688.727\" y=\"1557.47\">0</text>\n",
       "</g>\n",
       "<g clip-path=\"url(#clip1201)\">\n",
       "<text style=\"fill:#000000; fill-opacity:1; font-family:Arial,Helvetica Neue,Helvetica,sans-serif; font-size:48px; text-anchor:middle;\" transform=\"rotate(0, 965.785, 1557.47)\" x=\"965.785\" y=\"1557.47\">1</text>\n",
       "</g>\n",
       "<g clip-path=\"url(#clip1201)\">\n",
       "<text style=\"fill:#000000; fill-opacity:1; font-family:Arial,Helvetica Neue,Helvetica,sans-serif; font-size:48px; text-anchor:middle;\" transform=\"rotate(0, 1242.84, 1557.47)\" x=\"1242.84\" y=\"1557.47\">2</text>\n",
       "</g>\n",
       "<g clip-path=\"url(#clip1201)\">\n",
       "<text style=\"fill:#000000; fill-opacity:1; font-family:Arial,Helvetica Neue,Helvetica,sans-serif; font-size:48px; text-anchor:middle;\" transform=\"rotate(0, 1519.9, 1557.47)\" x=\"1519.9\" y=\"1557.47\">3</text>\n",
       "</g>\n",
       "<g clip-path=\"url(#clip1201)\">\n",
       "<text style=\"fill:#000000; fill-opacity:1; font-family:Arial,Helvetica Neue,Helvetica,sans-serif; font-size:48px; text-anchor:middle;\" transform=\"rotate(0, 1796.96, 1557.47)\" x=\"1796.96\" y=\"1557.47\">4</text>\n",
       "</g>\n",
       "<g clip-path=\"url(#clip1201)\">\n",
       "<text style=\"fill:#000000; fill-opacity:1; font-family:Arial,Helvetica Neue,Helvetica,sans-serif; font-size:48px; text-anchor:middle;\" transform=\"rotate(0, 2074.02, 1557.47)\" x=\"2074.02\" y=\"1557.47\">5</text>\n",
       "</g>\n",
       "<g clip-path=\"url(#clip1201)\">\n",
       "<text style=\"fill:#000000; fill-opacity:1; font-family:Arial,Helvetica Neue,Helvetica,sans-serif; font-size:48px; text-anchor:end;\" transform=\"rotate(0, 137.394, 1481.32)\" x=\"137.394\" y=\"1481.32\">0.0</text>\n",
       "</g>\n",
       "<g clip-path=\"url(#clip1201)\">\n",
       "<text style=\"fill:#000000; fill-opacity:1; font-family:Arial,Helvetica Neue,Helvetica,sans-serif; font-size:48px; text-anchor:end;\" transform=\"rotate(0, 137.394, 1136.51)\" x=\"137.394\" y=\"1136.51\">0.1</text>\n",
       "</g>\n",
       "<g clip-path=\"url(#clip1201)\">\n",
       "<text style=\"fill:#000000; fill-opacity:1; font-family:Arial,Helvetica Neue,Helvetica,sans-serif; font-size:48px; text-anchor:end;\" transform=\"rotate(0, 137.394, 791.701)\" x=\"137.394\" y=\"791.701\">0.2</text>\n",
       "</g>\n",
       "<g clip-path=\"url(#clip1201)\">\n",
       "<text style=\"fill:#000000; fill-opacity:1; font-family:Arial,Helvetica Neue,Helvetica,sans-serif; font-size:48px; text-anchor:end;\" transform=\"rotate(0, 137.394, 446.89)\" x=\"137.394\" y=\"446.89\">0.3</text>\n",
       "</g>\n",
       "<g clip-path=\"url(#clip1201)\">\n",
       "<text style=\"fill:#000000; fill-opacity:1; font-family:Arial,Helvetica Neue,Helvetica,sans-serif; font-size:48px; text-anchor:end;\" transform=\"rotate(0, 137.394, 102.079)\" x=\"137.394\" y=\"102.079\">0.4</text>\n",
       "</g>\n",
       "<polyline clip-path=\"url(#clip1203)\" style=\"stroke:#009af9; stroke-width:4; stroke-opacity:1; fill:none\" points=\"\n",
       "  222.522,1462.26 232.585,1462.04 325.628,1458.09 418.67,1447.34 474.585,1434.39 530.5,1413.35 577.775,1386.69 625.05,1349.32 650.727,1323.64 676.404,1293.67 \n",
       "  702.082,1259.05 727.759,1219.5 751.431,1178.49 775.103,1133.01 798.775,1083.07 822.447,1028.78 873.204,898.919 923.962,754.511 982.77,578.398 1041.58,407.249 \n",
       "  1067.71,337.343 1093.84,273.447 1119.97,217.067 1146.1,169.581 1169.02,136.208 1191.93,111.258 1214.84,95.2332 1237.76,88.4582 1262.74,91.7693 1287.72,106.157 \n",
       "  1312.71,131.272 1337.69,166.514 1362.82,211.342 1387.95,264.53 1413.08,324.868 1438.21,391.034 1493.79,551.073 1549.36,717.86 1602.23,870.741 1655.11,1009.16 \n",
       "  1682.6,1073.49 1710.08,1132 1737.57,1184.5 1765.06,1231 1811.34,1296.24 1857.62,1346.52 1914.12,1390.75 1970.63,1420.16 2023.74,1437.91 2076.85,1449 \n",
       "  2161.94,1458.21 2247.04,1461.89 2260.13,1462.2 \n",
       "  \"/>\n",
       "<polygon clip-path=\"url(#clip1201)\" points=\"\n",
       "1958.43,251.724 2249.26,251.724 2249.26,130.764 1958.43,130.764 \n",
       "  \" fill=\"#ffffff\" fill-rule=\"evenodd\" fill-opacity=\"1\"/>\n",
       "<polyline clip-path=\"url(#clip1201)\" style=\"stroke:#000000; stroke-width:4; stroke-opacity:1; fill:none\" points=\"\n",
       "  1958.43,251.724 2249.26,251.724 2249.26,130.764 1958.43,130.764 1958.43,251.724 \n",
       "  \"/>\n",
       "<polyline clip-path=\"url(#clip1201)\" style=\"stroke:#009af9; stroke-width:4; stroke-opacity:1; fill:none\" points=\"\n",
       "  1982.43,191.244 2126.43,191.244 \n",
       "  \"/>\n",
       "<g clip-path=\"url(#clip1201)\">\n",
       "<text style=\"fill:#000000; fill-opacity:1; font-family:Arial,Helvetica Neue,Helvetica,sans-serif; font-size:48px; text-anchor:start;\" transform=\"rotate(0, 2150.43, 208.744)\" x=\"2150.43\" y=\"208.744\">y1</text>\n",
       "</g>\n",
       "</svg>\n"
      ]
     },
     "execution_count": 18,
     "metadata": {},
     "output_type": "execute_result"
    }
   ],
   "source": [
    "using StatsPlots\n",
    "d = Normal(2.0, 1.0)\n",
    "plot(d) # note no other arguments!"
   ]
  },
  {
   "cell_type": "markdown",
   "metadata": {},
   "source": [
    "Calling `plot` on any subtype of `Distributions{Univariate, Continuous}`\n",
    "displays the `pdf` and uses `minimum` and `maximum` to determine the range\n",
    "\n",
    "Let’s create our own distribution type"
   ]
  },
  {
   "cell_type": "code",
   "execution_count": 19,
   "metadata": {
    "hide-output": false
   },
   "outputs": [],
   "source": [
    "struct OurTruncatedExponential <: Distribution{Univariate,Continuous}\n",
    "    α::Float64\n",
    "    xmax::Float64\n",
    "end\n",
    "Distributions.pdf(d::OurTruncatedExponential, x) = d.α *exp(-d.α * x)/exp(-d.α * d.xmax)\n",
    "Distributions.minimum(d::OurTruncatedExponential) = 0\n",
    "Distributions.maximum(d::OurTruncatedExponential) = d.xmax\n",
    "# ... more to have a complete type"
   ]
  },
  {
   "cell_type": "markdown",
   "metadata": {},
   "source": [
    "To demonstrate this"
   ]
  },
  {
   "cell_type": "code",
   "execution_count": 20,
   "metadata": {
    "hide-output": false
   },
   "outputs": [
    {
     "name": "stdout",
     "output_type": "stream",
     "text": [
      "(minimum(d), maximum(d)) = (0, 2.0)\n",
      "support(d) = "
     ]
    },
    {
     "name": "stdout",
     "output_type": "stream",
     "text": [
      "RealInterval(0.0, 2.0)\n"
     ]
    },
    {
     "data": {
      "text/plain": [
       "RealInterval(0.0, 2.0)"
      ]
     },
     "execution_count": 20,
     "metadata": {},
     "output_type": "execute_result"
    }
   ],
   "source": [
    "d = OurTruncatedExponential(1.0,2.0)\n",
    "@show minimum(d), maximum(d)\n",
    "@show support(d) # why does this work?"
   ]
  },
  {
   "cell_type": "markdown",
   "metadata": {},
   "source": [
    "Curiously, you will note that the `support` function works, even though we did not provide one\n",
    "\n",
    "This is another example of the power of multiple dispatch and generic programming\n",
    "\n",
    "In the background, the `Distributions.jl` package  has something like the following implemented"
   ]
  },
  {
   "cell_type": "markdown",
   "metadata": {
    "hide-output": false
   },
   "source": [
    "```julia\n",
    "    Distributions.support(d::Distribution) = RealInterval(minimum(d), maximum(d))\n",
    "```\n"
   ]
  },
  {
   "cell_type": "markdown",
   "metadata": {},
   "source": [
    "Since `OurTruncatedExponential <: Distribution`, and we\n",
    "implemented `minimum` and `maximum`, calls to `support` get this\n",
    "implementation as a fallback\n",
    "\n",
    "These functions are enough to use the  `StatsPlots.jl` package"
   ]
  },
  {
   "cell_type": "code",
   "execution_count": 21,
   "metadata": {
    "hide-output": false
   },
   "outputs": [
    {
     "data": {
      "image/svg+xml": [
       "<?xml version=\"1.0\" encoding=\"utf-8\"?>\n",
       "<svg xmlns=\"http://www.w3.org/2000/svg\" xmlns:xlink=\"http://www.w3.org/1999/xlink\" width=\"600\" height=\"400\" viewBox=\"0 0 2400 1600\">\n",
       "<defs>\n",
       "  <clipPath id=\"clip1400\">\n",
       "    <rect x=\"0\" y=\"0\" width=\"2000\" height=\"2000\"/>\n",
       "  </clipPath>\n",
       "</defs>\n",
       "<defs>\n",
       "  <clipPath id=\"clip1401\">\n",
       "    <rect x=\"0\" y=\"0\" width=\"2400\" height=\"1600\"/>\n",
       "  </clipPath>\n",
       "</defs>\n",
       "<polygon clip-path=\"url(#clip1401)\" points=\"\n",
       "0,1600 2400,1600 2400,0 0,0 \n",
       "  \" fill=\"#ffffff\" fill-rule=\"evenodd\" fill-opacity=\"1\"/>\n",
       "<defs>\n",
       "  <clipPath id=\"clip1402\">\n",
       "    <rect x=\"480\" y=\"0\" width=\"1681\" height=\"1600\"/>\n",
       "  </clipPath>\n",
       "</defs>\n",
       "<polygon clip-path=\"url(#clip1401)\" points=\"\n",
       "121.251,1503.47 2321.26,1503.47 2321.26,47.2441 121.251,47.2441 \n",
       "  \" fill=\"#ffffff\" fill-rule=\"evenodd\" fill-opacity=\"1\"/>\n",
       "<defs>\n",
       "  <clipPath id=\"clip1403\">\n",
       "    <rect x=\"121\" y=\"47\" width=\"2201\" height=\"1457\"/>\n",
       "  </clipPath>\n",
       "</defs>\n",
       "<polyline clip-path=\"url(#clip1403)\" style=\"stroke:#000000; stroke-width:2; stroke-opacity:0.1; fill:none\" points=\"\n",
       "  162.78,1503.47 162.78,47.2441 \n",
       "  \"/>\n",
       "<polyline clip-path=\"url(#clip1403)\" style=\"stroke:#000000; stroke-width:2; stroke-opacity:0.1; fill:none\" points=\"\n",
       "  693.58,1503.47 693.58,47.2441 \n",
       "  \"/>\n",
       "<polyline clip-path=\"url(#clip1403)\" style=\"stroke:#000000; stroke-width:2; stroke-opacity:0.1; fill:none\" points=\"\n",
       "  1224.38,1503.47 1224.38,47.2441 \n",
       "  \"/>\n",
       "<polyline clip-path=\"url(#clip1403)\" style=\"stroke:#000000; stroke-width:2; stroke-opacity:0.1; fill:none\" points=\"\n",
       "  1755.18,1503.47 1755.18,47.2441 \n",
       "  \"/>\n",
       "<polyline clip-path=\"url(#clip1403)\" style=\"stroke:#000000; stroke-width:2; stroke-opacity:0.1; fill:none\" points=\"\n",
       "  2285.98,1503.47 2285.98,47.2441 \n",
       "  \"/>\n",
       "<polyline clip-path=\"url(#clip1403)\" style=\"stroke:#000000; stroke-width:2; stroke-opacity:0.1; fill:none\" points=\"\n",
       "  121.251,1467.95 2321.26,1467.95 \n",
       "  \"/>\n",
       "<polyline clip-path=\"url(#clip1403)\" style=\"stroke:#000000; stroke-width:2; stroke-opacity:0.1; fill:none\" points=\"\n",
       "  121.251,1247.09 2321.26,1247.09 \n",
       "  \"/>\n",
       "<polyline clip-path=\"url(#clip1403)\" style=\"stroke:#000000; stroke-width:2; stroke-opacity:0.1; fill:none\" points=\"\n",
       "  121.251,1026.24 2321.26,1026.24 \n",
       "  \"/>\n",
       "<polyline clip-path=\"url(#clip1403)\" style=\"stroke:#000000; stroke-width:2; stroke-opacity:0.1; fill:none\" points=\"\n",
       "  121.251,805.382 2321.26,805.382 \n",
       "  \"/>\n",
       "<polyline clip-path=\"url(#clip1403)\" style=\"stroke:#000000; stroke-width:2; stroke-opacity:0.1; fill:none\" points=\"\n",
       "  121.251,584.528 2321.26,584.528 \n",
       "  \"/>\n",
       "<polyline clip-path=\"url(#clip1403)\" style=\"stroke:#000000; stroke-width:2; stroke-opacity:0.1; fill:none\" points=\"\n",
       "  121.251,363.673 2321.26,363.673 \n",
       "  \"/>\n",
       "<polyline clip-path=\"url(#clip1403)\" style=\"stroke:#000000; stroke-width:2; stroke-opacity:0.1; fill:none\" points=\"\n",
       "  121.251,142.818 2321.26,142.818 \n",
       "  \"/>\n",
       "<polyline clip-path=\"url(#clip1401)\" style=\"stroke:#000000; stroke-width:4; stroke-opacity:1; fill:none\" points=\"\n",
       "  121.251,1503.47 2321.26,1503.47 \n",
       "  \"/>\n",
       "<polyline clip-path=\"url(#clip1401)\" style=\"stroke:#000000; stroke-width:4; stroke-opacity:1; fill:none\" points=\"\n",
       "  121.251,1503.47 121.251,47.2441 \n",
       "  \"/>\n",
       "<polyline clip-path=\"url(#clip1401)\" style=\"stroke:#000000; stroke-width:4; stroke-opacity:1; fill:none\" points=\"\n",
       "  162.78,1503.47 162.78,1481.63 \n",
       "  \"/>\n",
       "<polyline clip-path=\"url(#clip1401)\" style=\"stroke:#000000; stroke-width:4; stroke-opacity:1; fill:none\" points=\"\n",
       "  693.58,1503.47 693.58,1481.63 \n",
       "  \"/>\n",
       "<polyline clip-path=\"url(#clip1401)\" style=\"stroke:#000000; stroke-width:4; stroke-opacity:1; fill:none\" points=\"\n",
       "  1224.38,1503.47 1224.38,1481.63 \n",
       "  \"/>\n",
       "<polyline clip-path=\"url(#clip1401)\" style=\"stroke:#000000; stroke-width:4; stroke-opacity:1; fill:none\" points=\"\n",
       "  1755.18,1503.47 1755.18,1481.63 \n",
       "  \"/>\n",
       "<polyline clip-path=\"url(#clip1401)\" style=\"stroke:#000000; stroke-width:4; stroke-opacity:1; fill:none\" points=\"\n",
       "  2285.98,1503.47 2285.98,1481.63 \n",
       "  \"/>\n",
       "<polyline clip-path=\"url(#clip1401)\" style=\"stroke:#000000; stroke-width:4; stroke-opacity:1; fill:none\" points=\"\n",
       "  121.251,1467.95 154.251,1467.95 \n",
       "  \"/>\n",
       "<polyline clip-path=\"url(#clip1401)\" style=\"stroke:#000000; stroke-width:4; stroke-opacity:1; fill:none\" points=\"\n",
       "  121.251,1247.09 154.251,1247.09 \n",
       "  \"/>\n",
       "<polyline clip-path=\"url(#clip1401)\" style=\"stroke:#000000; stroke-width:4; stroke-opacity:1; fill:none\" points=\"\n",
       "  121.251,1026.24 154.251,1026.24 \n",
       "  \"/>\n",
       "<polyline clip-path=\"url(#clip1401)\" style=\"stroke:#000000; stroke-width:4; stroke-opacity:1; fill:none\" points=\"\n",
       "  121.251,805.382 154.251,805.382 \n",
       "  \"/>\n",
       "<polyline clip-path=\"url(#clip1401)\" style=\"stroke:#000000; stroke-width:4; stroke-opacity:1; fill:none\" points=\"\n",
       "  121.251,584.528 154.251,584.528 \n",
       "  \"/>\n",
       "<polyline clip-path=\"url(#clip1401)\" style=\"stroke:#000000; stroke-width:4; stroke-opacity:1; fill:none\" points=\"\n",
       "  121.251,363.673 154.251,363.673 \n",
       "  \"/>\n",
       "<polyline clip-path=\"url(#clip1401)\" style=\"stroke:#000000; stroke-width:4; stroke-opacity:1; fill:none\" points=\"\n",
       "  121.251,142.818 154.251,142.818 \n",
       "  \"/>\n",
       "<g clip-path=\"url(#clip1401)\">\n",
       "<text style=\"fill:#000000; fill-opacity:1; font-family:Arial,Helvetica Neue,Helvetica,sans-serif; font-size:48px; text-anchor:middle;\" transform=\"rotate(0, 162.78, 1557.47)\" x=\"162.78\" y=\"1557.47\">0.0</text>\n",
       "</g>\n",
       "<g clip-path=\"url(#clip1401)\">\n",
       "<text style=\"fill:#000000; fill-opacity:1; font-family:Arial,Helvetica Neue,Helvetica,sans-serif; font-size:48px; text-anchor:middle;\" transform=\"rotate(0, 693.58, 1557.47)\" x=\"693.58\" y=\"1557.47\">0.5</text>\n",
       "</g>\n",
       "<g clip-path=\"url(#clip1401)\">\n",
       "<text style=\"fill:#000000; fill-opacity:1; font-family:Arial,Helvetica Neue,Helvetica,sans-serif; font-size:48px; text-anchor:middle;\" transform=\"rotate(0, 1224.38, 1557.47)\" x=\"1224.38\" y=\"1557.47\">1.0</text>\n",
       "</g>\n",
       "<g clip-path=\"url(#clip1401)\">\n",
       "<text style=\"fill:#000000; fill-opacity:1; font-family:Arial,Helvetica Neue,Helvetica,sans-serif; font-size:48px; text-anchor:middle;\" transform=\"rotate(0, 1755.18, 1557.47)\" x=\"1755.18\" y=\"1557.47\">1.5</text>\n",
       "</g>\n",
       "<g clip-path=\"url(#clip1401)\">\n",
       "<text style=\"fill:#000000; fill-opacity:1; font-family:Arial,Helvetica Neue,Helvetica,sans-serif; font-size:48px; text-anchor:middle;\" transform=\"rotate(0, 2285.98, 1557.47)\" x=\"2285.98\" y=\"1557.47\">2.0</text>\n",
       "</g>\n",
       "<g clip-path=\"url(#clip1401)\">\n",
       "<text style=\"fill:#000000; fill-opacity:1; font-family:Arial,Helvetica Neue,Helvetica,sans-serif; font-size:48px; text-anchor:end;\" transform=\"rotate(0, 97.2505, 1485.45)\" x=\"97.2505\" y=\"1485.45\">1</text>\n",
       "</g>\n",
       "<g clip-path=\"url(#clip1401)\">\n",
       "<text style=\"fill:#000000; fill-opacity:1; font-family:Arial,Helvetica Neue,Helvetica,sans-serif; font-size:48px; text-anchor:end;\" transform=\"rotate(0, 97.2505, 1264.59)\" x=\"97.2505\" y=\"1264.59\">2</text>\n",
       "</g>\n",
       "<g clip-path=\"url(#clip1401)\">\n",
       "<text style=\"fill:#000000; fill-opacity:1; font-family:Arial,Helvetica Neue,Helvetica,sans-serif; font-size:48px; text-anchor:end;\" transform=\"rotate(0, 97.2505, 1043.74)\" x=\"97.2505\" y=\"1043.74\">3</text>\n",
       "</g>\n",
       "<g clip-path=\"url(#clip1401)\">\n",
       "<text style=\"fill:#000000; fill-opacity:1; font-family:Arial,Helvetica Neue,Helvetica,sans-serif; font-size:48px; text-anchor:end;\" transform=\"rotate(0, 97.2505, 822.882)\" x=\"97.2505\" y=\"822.882\">4</text>\n",
       "</g>\n",
       "<g clip-path=\"url(#clip1401)\">\n",
       "<text style=\"fill:#000000; fill-opacity:1; font-family:Arial,Helvetica Neue,Helvetica,sans-serif; font-size:48px; text-anchor:end;\" transform=\"rotate(0, 97.2505, 602.028)\" x=\"97.2505\" y=\"602.028\">5</text>\n",
       "</g>\n",
       "<g clip-path=\"url(#clip1401)\">\n",
       "<text style=\"fill:#000000; fill-opacity:1; font-family:Arial,Helvetica Neue,Helvetica,sans-serif; font-size:48px; text-anchor:end;\" transform=\"rotate(0, 97.2505, 381.173)\" x=\"97.2505\" y=\"381.173\">6</text>\n",
       "</g>\n",
       "<g clip-path=\"url(#clip1401)\">\n",
       "<text style=\"fill:#000000; fill-opacity:1; font-family:Arial,Helvetica Neue,Helvetica,sans-serif; font-size:48px; text-anchor:end;\" transform=\"rotate(0, 97.2505, 160.318)\" x=\"97.2505\" y=\"160.318\">7</text>\n",
       "</g>\n",
       "<polyline clip-path=\"url(#clip1403)\" style=\"stroke:#009af9; stroke-width:4; stroke-opacity:1; fill:none\" points=\"\n",
       "  183.515,88.4582 375.238,352.882 490.455,490.281 587.87,595.365 693.69,699.102 791.247,785.997 895.838,870.702 1017.02,958.954 1124.71,1029.36 1219.14,1085.49 \n",
       "  1322.1,1141.25 1425.67,1192.15 1540.18,1242.93 1649.13,1286.42 1762.42,1327.15 1857.78,1358.22 1974.21,1392.56 2083.66,1421.58 2259,1462.26 \n",
       "  \"/>\n",
       "<polygon clip-path=\"url(#clip1401)\" points=\"\n",
       "1958.43,251.724 2249.26,251.724 2249.26,130.764 1958.43,130.764 \n",
       "  \" fill=\"#ffffff\" fill-rule=\"evenodd\" fill-opacity=\"1\"/>\n",
       "<polyline clip-path=\"url(#clip1401)\" style=\"stroke:#000000; stroke-width:4; stroke-opacity:1; fill:none\" points=\"\n",
       "  1958.43,251.724 2249.26,251.724 2249.26,130.764 1958.43,130.764 1958.43,251.724 \n",
       "  \"/>\n",
       "<polyline clip-path=\"url(#clip1401)\" style=\"stroke:#009af9; stroke-width:4; stroke-opacity:1; fill:none\" points=\"\n",
       "  1982.43,191.244 2126.43,191.244 \n",
       "  \"/>\n",
       "<g clip-path=\"url(#clip1401)\">\n",
       "<text style=\"fill:#000000; fill-opacity:1; font-family:Arial,Helvetica Neue,Helvetica,sans-serif; font-size:48px; text-anchor:start;\" transform=\"rotate(0, 2150.43, 208.744)\" x=\"2150.43\" y=\"208.744\">y1</text>\n",
       "</g>\n",
       "</svg>\n"
      ]
     },
     "execution_count": 21,
     "metadata": {},
     "output_type": "execute_result"
    }
   ],
   "source": [
    "plot(d) # uses the generic code!"
   ]
  },
  {
   "cell_type": "markdown",
   "metadata": {},
   "source": [
    "A few things to point out\n",
    "\n",
    "- Even if it worked for `StatsPlots`, our implementation is incomplete, as we haven’t fulfilled all of the requirements of a `Distribution`  \n",
    "- We also did not implement the `rand` function, which means we are breaking the implicit contract of the `Sampleable` abstract type  \n",
    "- It turns out that there is a better way to do this precise thing already built into `Distributions`  "
   ]
  },
  {
   "cell_type": "code",
   "execution_count": 22,
   "metadata": {
    "hide-output": false
   },
   "outputs": [
    {
     "name": "stdout",
     "output_type": "stream",
     "text": [
      "typeof(d) = Truncated{Exponential{Float64},Continuous}\n"
     ]
    },
    {
     "data": {
      "image/svg+xml": [
       "<?xml version=\"1.0\" encoding=\"utf-8\"?>\n",
       "<svg xmlns=\"http://www.w3.org/2000/svg\" xmlns:xlink=\"http://www.w3.org/1999/xlink\" width=\"600\" height=\"400\" viewBox=\"0 0 2400 1600\">\n",
       "<defs>\n",
       "  <clipPath id=\"clip1600\">\n",
       "    <rect x=\"0\" y=\"0\" width=\"2000\" height=\"2000\"/>\n",
       "  </clipPath>\n",
       "</defs>\n",
       "<defs>\n",
       "  <clipPath id=\"clip1601\">\n",
       "    <rect x=\"0\" y=\"0\" width=\"2400\" height=\"1600\"/>\n",
       "  </clipPath>\n",
       "</defs>\n",
       "<polygon clip-path=\"url(#clip1601)\" points=\"\n",
       "0,1600 2400,1600 2400,0 0,0 \n",
       "  \" fill=\"#ffffff\" fill-rule=\"evenodd\" fill-opacity=\"1\"/>\n",
       "<defs>\n",
       "  <clipPath id=\"clip1602\">\n",
       "    <rect x=\"480\" y=\"0\" width=\"1681\" height=\"1600\"/>\n",
       "  </clipPath>\n",
       "</defs>\n",
       "<polygon clip-path=\"url(#clip1601)\" points=\"\n",
       "188.156,1503.47 2321.26,1503.47 2321.26,47.2441 188.156,47.2441 \n",
       "  \" fill=\"#ffffff\" fill-rule=\"evenodd\" fill-opacity=\"1\"/>\n",
       "<defs>\n",
       "  <clipPath id=\"clip1603\">\n",
       "    <rect x=\"188\" y=\"47\" width=\"2134\" height=\"1457\"/>\n",
       "  </clipPath>\n",
       "</defs>\n",
       "<polyline clip-path=\"url(#clip1603)\" style=\"stroke:#000000; stroke-width:2; stroke-opacity:0.1; fill:none\" points=\"\n",
       "  246.036,1503.47 246.036,47.2441 \n",
       "  \"/>\n",
       "<polyline clip-path=\"url(#clip1603)\" style=\"stroke:#000000; stroke-width:2; stroke-opacity:0.1; fill:none\" points=\"\n",
       "  756.233,1503.47 756.233,47.2441 \n",
       "  \"/>\n",
       "<polyline clip-path=\"url(#clip1603)\" style=\"stroke:#000000; stroke-width:2; stroke-opacity:0.1; fill:none\" points=\"\n",
       "  1266.43,1503.47 1266.43,47.2441 \n",
       "  \"/>\n",
       "<polyline clip-path=\"url(#clip1603)\" style=\"stroke:#000000; stroke-width:2; stroke-opacity:0.1; fill:none\" points=\"\n",
       "  1776.63,1503.47 1776.63,47.2441 \n",
       "  \"/>\n",
       "<polyline clip-path=\"url(#clip1603)\" style=\"stroke:#000000; stroke-width:2; stroke-opacity:0.1; fill:none\" points=\"\n",
       "  2286.83,1503.47 2286.83,47.2441 \n",
       "  \"/>\n",
       "<polyline clip-path=\"url(#clip1603)\" style=\"stroke:#000000; stroke-width:2; stroke-opacity:0.1; fill:none\" points=\"\n",
       "  188.156,1462.26 2321.26,1462.26 \n",
       "  \"/>\n",
       "<polyline clip-path=\"url(#clip1603)\" style=\"stroke:#000000; stroke-width:2; stroke-opacity:0.1; fill:none\" points=\"\n",
       "  188.156,1110.32 2321.26,1110.32 \n",
       "  \"/>\n",
       "<polyline clip-path=\"url(#clip1603)\" style=\"stroke:#000000; stroke-width:2; stroke-opacity:0.1; fill:none\" points=\"\n",
       "  188.156,758.383 2321.26,758.383 \n",
       "  \"/>\n",
       "<polyline clip-path=\"url(#clip1603)\" style=\"stroke:#000000; stroke-width:2; stroke-opacity:0.1; fill:none\" points=\"\n",
       "  188.156,406.444 2321.26,406.444 \n",
       "  \"/>\n",
       "<polyline clip-path=\"url(#clip1603)\" style=\"stroke:#000000; stroke-width:2; stroke-opacity:0.1; fill:none\" points=\"\n",
       "  188.156,54.5046 2321.26,54.5046 \n",
       "  \"/>\n",
       "<polyline clip-path=\"url(#clip1601)\" style=\"stroke:#000000; stroke-width:4; stroke-opacity:1; fill:none\" points=\"\n",
       "  188.156,1503.47 2321.26,1503.47 \n",
       "  \"/>\n",
       "<polyline clip-path=\"url(#clip1601)\" style=\"stroke:#000000; stroke-width:4; stroke-opacity:1; fill:none\" points=\"\n",
       "  188.156,1503.47 188.156,47.2441 \n",
       "  \"/>\n",
       "<polyline clip-path=\"url(#clip1601)\" style=\"stroke:#000000; stroke-width:4; stroke-opacity:1; fill:none\" points=\"\n",
       "  246.036,1503.47 246.036,1481.63 \n",
       "  \"/>\n",
       "<polyline clip-path=\"url(#clip1601)\" style=\"stroke:#000000; stroke-width:4; stroke-opacity:1; fill:none\" points=\"\n",
       "  756.233,1503.47 756.233,1481.63 \n",
       "  \"/>\n",
       "<polyline clip-path=\"url(#clip1601)\" style=\"stroke:#000000; stroke-width:4; stroke-opacity:1; fill:none\" points=\"\n",
       "  1266.43,1503.47 1266.43,1481.63 \n",
       "  \"/>\n",
       "<polyline clip-path=\"url(#clip1601)\" style=\"stroke:#000000; stroke-width:4; stroke-opacity:1; fill:none\" points=\"\n",
       "  1776.63,1503.47 1776.63,1481.63 \n",
       "  \"/>\n",
       "<polyline clip-path=\"url(#clip1601)\" style=\"stroke:#000000; stroke-width:4; stroke-opacity:1; fill:none\" points=\"\n",
       "  2286.83,1503.47 2286.83,1481.63 \n",
       "  \"/>\n",
       "<polyline clip-path=\"url(#clip1601)\" style=\"stroke:#000000; stroke-width:4; stroke-opacity:1; fill:none\" points=\"\n",
       "  188.156,1462.26 220.153,1462.26 \n",
       "  \"/>\n",
       "<polyline clip-path=\"url(#clip1601)\" style=\"stroke:#000000; stroke-width:4; stroke-opacity:1; fill:none\" points=\"\n",
       "  188.156,1110.32 220.153,1110.32 \n",
       "  \"/>\n",
       "<polyline clip-path=\"url(#clip1601)\" style=\"stroke:#000000; stroke-width:4; stroke-opacity:1; fill:none\" points=\"\n",
       "  188.156,758.383 220.153,758.383 \n",
       "  \"/>\n",
       "<polyline clip-path=\"url(#clip1601)\" style=\"stroke:#000000; stroke-width:4; stroke-opacity:1; fill:none\" points=\"\n",
       "  188.156,406.444 220.153,406.444 \n",
       "  \"/>\n",
       "<polyline clip-path=\"url(#clip1601)\" style=\"stroke:#000000; stroke-width:4; stroke-opacity:1; fill:none\" points=\"\n",
       "  188.156,54.5046 220.153,54.5046 \n",
       "  \"/>\n",
       "<g clip-path=\"url(#clip1601)\">\n",
       "<text style=\"fill:#000000; fill-opacity:1; font-family:Arial,Helvetica Neue,Helvetica,sans-serif; font-size:48px; text-anchor:middle;\" transform=\"rotate(0, 246.036, 1557.47)\" x=\"246.036\" y=\"1557.47\">0.0</text>\n",
       "</g>\n",
       "<g clip-path=\"url(#clip1601)\">\n",
       "<text style=\"fill:#000000; fill-opacity:1; font-family:Arial,Helvetica Neue,Helvetica,sans-serif; font-size:48px; text-anchor:middle;\" transform=\"rotate(0, 756.233, 1557.47)\" x=\"756.233\" y=\"1557.47\">0.5</text>\n",
       "</g>\n",
       "<g clip-path=\"url(#clip1601)\">\n",
       "<text style=\"fill:#000000; fill-opacity:1; font-family:Arial,Helvetica Neue,Helvetica,sans-serif; font-size:48px; text-anchor:middle;\" transform=\"rotate(0, 1266.43, 1557.47)\" x=\"1266.43\" y=\"1557.47\">1.0</text>\n",
       "</g>\n",
       "<g clip-path=\"url(#clip1601)\">\n",
       "<text style=\"fill:#000000; fill-opacity:1; font-family:Arial,Helvetica Neue,Helvetica,sans-serif; font-size:48px; text-anchor:middle;\" transform=\"rotate(0, 1776.63, 1557.47)\" x=\"1776.63\" y=\"1557.47\">1.5</text>\n",
       "</g>\n",
       "<g clip-path=\"url(#clip1601)\">\n",
       "<text style=\"fill:#000000; fill-opacity:1; font-family:Arial,Helvetica Neue,Helvetica,sans-serif; font-size:48px; text-anchor:middle;\" transform=\"rotate(0, 2286.83, 1557.47)\" x=\"2286.83\" y=\"1557.47\">2.0</text>\n",
       "</g>\n",
       "<g clip-path=\"url(#clip1601)\">\n",
       "<text style=\"fill:#000000; fill-opacity:1; font-family:Arial,Helvetica Neue,Helvetica,sans-serif; font-size:48px; text-anchor:end;\" transform=\"rotate(0, 164.156, 1479.76)\" x=\"164.156\" y=\"1479.76\">0.0</text>\n",
       "</g>\n",
       "<g clip-path=\"url(#clip1601)\">\n",
       "<text style=\"fill:#000000; fill-opacity:1; font-family:Arial,Helvetica Neue,Helvetica,sans-serif; font-size:48px; text-anchor:end;\" transform=\"rotate(0, 164.156, 1127.82)\" x=\"164.156\" y=\"1127.82\">2.5</text>\n",
       "</g>\n",
       "<g clip-path=\"url(#clip1601)\">\n",
       "<text style=\"fill:#000000; fill-opacity:1; font-family:Arial,Helvetica Neue,Helvetica,sans-serif; font-size:48px; text-anchor:end;\" transform=\"rotate(0, 164.156, 775.883)\" x=\"164.156\" y=\"775.883\">5.0</text>\n",
       "</g>\n",
       "<g clip-path=\"url(#clip1601)\">\n",
       "<text style=\"fill:#000000; fill-opacity:1; font-family:Arial,Helvetica Neue,Helvetica,sans-serif; font-size:48px; text-anchor:end;\" transform=\"rotate(0, 164.156, 423.944)\" x=\"164.156\" y=\"423.944\">7.5</text>\n",
       "</g>\n",
       "<g clip-path=\"url(#clip1601)\">\n",
       "<text style=\"fill:#000000; fill-opacity:1; font-family:Arial,Helvetica Neue,Helvetica,sans-serif; font-size:48px; text-anchor:end;\" transform=\"rotate(0, 164.156, 72.0046)\" x=\"164.156\" y=\"72.0046\">10.0</text>\n",
       "</g>\n",
       "<polyline clip-path=\"url(#clip1603)\" style=\"stroke:#009af9; stroke-width:4; stroke-opacity:1; fill:none\" points=\"\n",
       "  248.527,88.4582 251.018,121.593 253.51,153.928 256.001,185.484 258.492,216.278 260.983,246.33 263.475,275.657 265.966,304.277 277.484,427.876 289.001,538.283 \n",
       "  300.519,636.905 312.036,725.001 323.554,803.693 335.072,873.987 346.589,936.777 358.107,992.866 369.624,1042.97 381.142,1087.72 392.659,1127.7 404.177,1163.41 \n",
       "  427.212,1223.8 450.247,1271.99 477.934,1317.2 505.62,1351.67 533.307,1377.95 560.993,1397.99 607.81,1421.64 654.627,1436.59 756.339,1452.79 850.11,1458.48 \n",
       "  950.641,1460.85 1067.12,1461.81 1170.63,1462.1 1261.39,1462.19 1360.36,1462.24 1459.91,1462.25 1569.97,1462.26 1674.7,1462.26 1783.59,1462.26 1875.25,1462.26 \n",
       "  1987.16,1462.26 2092.35,1462.26 2260.89,1462.26 \n",
       "  \"/>\n",
       "<polygon clip-path=\"url(#clip1601)\" points=\"\n",
       "1958.43,251.724 2249.26,251.724 2249.26,130.764 1958.43,130.764 \n",
       "  \" fill=\"#ffffff\" fill-rule=\"evenodd\" fill-opacity=\"1\"/>\n",
       "<polyline clip-path=\"url(#clip1601)\" style=\"stroke:#000000; stroke-width:4; stroke-opacity:1; fill:none\" points=\"\n",
       "  1958.43,251.724 2249.26,251.724 2249.26,130.764 1958.43,130.764 1958.43,251.724 \n",
       "  \"/>\n",
       "<polyline clip-path=\"url(#clip1601)\" style=\"stroke:#009af9; stroke-width:4; stroke-opacity:1; fill:none\" points=\"\n",
       "  1982.43,191.244 2126.43,191.244 \n",
       "  \"/>\n",
       "<g clip-path=\"url(#clip1601)\">\n",
       "<text style=\"fill:#000000; fill-opacity:1; font-family:Arial,Helvetica Neue,Helvetica,sans-serif; font-size:48px; text-anchor:start;\" transform=\"rotate(0, 2150.43, 208.744)\" x=\"2150.43\" y=\"208.744\">y1</text>\n",
       "</g>\n",
       "</svg>\n"
      ]
     },
     "execution_count": 22,
     "metadata": {},
     "output_type": "execute_result"
    }
   ],
   "source": [
    "d = Truncated(Exponential(0.1), 0.0, 2.0)\n",
    "@show typeof(d)\n",
    "plot(d)"
   ]
  },
  {
   "cell_type": "markdown",
   "metadata": {},
   "source": [
    "This is the power of generic programming in general, and Julia in particular: you can combine and compose completely separate packages and code, as long as there is an agreement on abstract types and functions"
   ]
  },
  {
   "cell_type": "markdown",
   "metadata": {},
   "source": [
    "## Numbers and Algebraic Structures\n",
    "\n",
    "Define two binary functions,  $ + $ and $ \\cdot $, called addition and multiplication – although the operators can be applied to data structures much more abstract than a `Real`\n",
    "\n",
    "In mathematics, a [ring](https://en.wikipedia.org/wiki/Ring_%28mathematics%29) is a set with associated additive and multiplicative operators where\n",
    "\n",
    "> - the additive operator is associative and commutative  \n",
    "- the multiplicative operator is associative and distributive with respect to the additive operator  \n",
    "- there is an additive identity element,  denoted $ 0 $, such that $ a + 0 = a $ for any $ a $ in the set  \n",
    "- there is an additive inverse of each element, denoted $ -a $, such that $ a + (-a) = 0 $  \n",
    "- there is a multiplicative identity element, denoted $ 1 $, such that $ a \\cdot 1 = a = 1 \\cdot a $  \n",
    "- a total or partial ordering is **not** required (i.e., there does not need to be any meaningful $ < $ operator defined)  \n",
    "- a multiplicative inverse is **not** required  \n",
    "\n",
    "\n",
    "\n",
    "While this skips over some parts of the mathematical definition, this algebraic structure provides motivation for the abstract `Number` type in Julia\n",
    "\n",
    "> - **Remark:** We use the term “motivation” because they are not formally connected and the mapping is imperfect  \n",
    "- The main difficulty when dealing with numbers that can be concretely created on a computer is that the requirement that the operators are closed in the set are difficult to ensure (e.g. floating points have finite numbers of bits of information)  \n",
    "\n",
    "\n",
    "\n",
    "Let `typeof(a) = typeof(b) = T <: Number`, then under an informal definition of the **generic interface** for\n",
    "`Number`, the following must be defined\n",
    "\n",
    "> - the additive operator: `a + b`  \n",
    "- the multiplicative operator: `a * b`  \n",
    "- an additive inverse operator: `-a`  \n",
    "- an inverse operation for addition `a - b = a + (-b)`  \n",
    "- an additive identity: `zero(T)` or `zero(a)` for convenience  \n",
    "- a multiplicative identity: `one(T)` or `one(a)` for convenience  \n",
    "\n",
    "\n",
    "\n",
    "The core of generic programming is that, given the knowledge that a value is of type `Number`, we can design algorithms using any of these functions and not concern ourselves with the particular concrete type\n",
    "\n",
    "Furthermore, that generality in designing algorithms comes with no compromises on performance compared to carefully designed algorithms written for that particular type\n",
    "\n",
    "To demonstrate this for a complex number, where `Complex{Float64} <: Number`"
   ]
  },
  {
   "cell_type": "code",
   "execution_count": 23,
   "metadata": {
    "hide-output": false
   },
   "outputs": [
    {
     "name": "stdout",
     "output_type": "stream",
     "text": [
      "typeof(a) = Complex{Float64}\n",
      "typeof(a) <: Number = true\n"
     ]
    },
    {
     "name": "stdout",
     "output_type": "stream",
     "text": [
      "a + b = 1.0 + 3.0im\n",
      "a * b = -2.0 + 2.0im\n",
      "-a = -1.0 - 1.0im\n",
      "a - b = 1.0 - 1.0im\n",
      "zero(a) = 0.0 + 0.0im\n",
      "one(a) = 1.0 + 0.0im\n"
     ]
    }
   ],
   "source": [
    "a = 1.0 + 1.0im\n",
    "b = 0.0 + 2.0im\n",
    "@show typeof(a)\n",
    "@show typeof(a) <: Number\n",
    "@show a + b\n",
    "@show a * b\n",
    "@show -a\n",
    "@show a - b\n",
    "@show zero(a)\n",
    "@show one(a);"
   ]
  },
  {
   "cell_type": "markdown",
   "metadata": {},
   "source": [
    "And for an arbitrary precision integer where `BigInt <: Number`\n",
    "(i.e., a different type than the `Int64` you have worked with, but nevertheless a `Number`)"
   ]
  },
  {
   "cell_type": "code",
   "execution_count": 24,
   "metadata": {
    "hide-output": false
   },
   "outputs": [
    {
     "name": "stdout",
     "output_type": "stream",
     "text": [
      "typeof(a) = BigInt\n",
      "typeof(a) <: Number = true\n"
     ]
    },
    {
     "name": "stdout",
     "output_type": "stream",
     "text": [
      "a + b = 14\n",
      "a * b = 40\n",
      "-a = -10\n",
      "a - b = 6\n",
      "zero(a) = 0\n",
      "one(a) = 1\n"
     ]
    }
   ],
   "source": [
    "a = BigInt(10)\n",
    "b = BigInt(4)\n",
    "@show typeof(a)\n",
    "@show typeof(a) <: Number\n",
    "@show a + b\n",
    "@show a * b\n",
    "@show -a\n",
    "@show a - b\n",
    "@show zero(a)\n",
    "@show one(a);"
   ]
  },
  {
   "cell_type": "markdown",
   "metadata": {},
   "source": [
    "### Complex Numbers and Composition of Generic Functions\n",
    "\n",
    "This allows us to showcase further how different generic packages compose – even if they are only loosely coupled through agreement on common generic interfaces\n",
    "\n",
    "The `Complex` numbers require some sort of storage for their underlying real and imaginary parts, which is itself left generic\n",
    "\n",
    "This data structure is defined to work with any type `<: Number`, and is parameterized (e.g. `Complex{Float64}` is a complex number storing the imaginary and real parts in `Float64`)"
   ]
  },
  {
   "cell_type": "code",
   "execution_count": 25,
   "metadata": {
    "hide-output": false
   },
   "outputs": [
    {
     "name": "stdout",
     "output_type": "stream",
     "text": [
      "(x, typeof(x)) = (4.0 + 1.0im, Complex{Float64})\n",
      "(xbig, typeof(xbig)) = "
     ]
    },
    {
     "name": "stdout",
     "output_type": "stream",
     "text": [
      "(4.0 + 1.0im, Complex{BigFloat})\n"
     ]
    }
   ],
   "source": [
    "x = 4.0 + 1.0im\n",
    "@show x, typeof(x)\n",
    "\n",
    "xbig = BigFloat(4.0) + 1.0im\n",
    "@show xbig, typeof(xbig);"
   ]
  },
  {
   "cell_type": "markdown",
   "metadata": {},
   "source": [
    "The implementation of the `Complex` numbers use the underlying operations of\n",
    "storage type, so as long as `+`, `*` etc. are defined – as they should be\n",
    "for any `Number` – the complex operation can be defined"
   ]
  },
  {
   "cell_type": "code",
   "execution_count": 26,
   "metadata": {
    "hide-output": false
   },
   "outputs": [
    {
     "data": {
      "text/html": [
       "+(z::<b>Complex</b>, w::<b>Complex</b>) in Base at <a href=\"https://github.com/JuliaLang/julia/tree/80516ca20297a67b996caa08c38786332379b6a5/base/complex.jl#L266\" target=\"_blank\">complex.jl:266</a>"
      ],
      "text/plain": [
       "+(z::Complex, w::Complex) in Base at complex.jl:266"
      ]
     },
     "execution_count": 26,
     "metadata": {},
     "output_type": "execute_result"
    }
   ],
   "source": [
    "@which +(x,x)"
   ]
  },
  {
   "cell_type": "markdown",
   "metadata": {},
   "source": [
    "Following that link, the implementation of `+` for complex numbers is"
   ]
  },
  {
   "cell_type": "markdown",
   "metadata": {
    "hide-output": false
   },
   "source": [
    "```julia\n",
    "+(z::Complex, w::Complex) = Complex(real(z) + real(w), imag(z) + imag(w))\n",
    "```\n"
   ]
  },
  {
   "cell_type": "markdown",
   "metadata": {},
   "source": [
    "`real(z)` and `imag(z)` returns the associated components of the complex number in the underlying storage type (e.g. `Float64` or `BigFloat`)\n",
    "\n",
    "The rest of the function has been carefully written to use functions defined for any `Number` (e.g. `+` but not `<`, since it is not part of the generic number interface)\n",
    "\n",
    "To follow another example , look at the implementation of `abs` specialized for complex numbers"
   ]
  },
  {
   "cell_type": "code",
   "execution_count": 27,
   "metadata": {
    "hide-output": false
   },
   "outputs": [
    {
     "data": {
      "text/html": [
       "abs(z::<b>Complex</b>) in Base at <a href=\"https://github.com/JuliaLang/julia/tree/80516ca20297a67b996caa08c38786332379b6a5/base/complex.jl#L260\" target=\"_blank\">complex.jl:260</a>"
      ],
      "text/plain": [
       "abs(z::Complex) in Base at complex.jl:260"
      ]
     },
     "execution_count": 27,
     "metadata": {},
     "output_type": "execute_result"
    }
   ],
   "source": [
    "@which abs(x)"
   ]
  },
  {
   "cell_type": "markdown",
   "metadata": {},
   "source": [
    "The source is"
   ]
  },
  {
   "cell_type": "markdown",
   "metadata": {
    "hide-output": false
   },
   "source": [
    "```julia\n",
    "abs(z::Complex)  = hypot(real(z), imag(z))\n",
    "```\n"
   ]
  },
  {
   "cell_type": "markdown",
   "metadata": {},
   "source": [
    "In this case, if you look at the generic function to get the hypotenuse, `hypot`, you will see that it has the function signature `hypot(x::T, y::T) where T<:Number`, and hence works for any `Number`\n",
    "\n",
    "That function, in turn, relies on the underlying `abs` for the type of `real(z)`\n",
    "\n",
    "This would dispatch to the appropriate `abs` for the type"
   ]
  },
  {
   "cell_type": "code",
   "execution_count": 28,
   "metadata": {
    "hide-output": false
   },
   "outputs": [
    {
     "data": {
      "text/html": [
       "abs(x::<b>Float64</b>) in Base at <a href=\"https://github.com/JuliaLang/julia/tree/80516ca20297a67b996caa08c38786332379b6a5/base/float.jl#L522\" target=\"_blank\">float.jl:522</a>"
      ],
      "text/plain": [
       "abs(x::Float64) in Base at float.jl:522"
      ]
     },
     "execution_count": 28,
     "metadata": {},
     "output_type": "execute_result"
    }
   ],
   "source": [
    "@which abs(1.0)"
   ]
  },
  {
   "cell_type": "code",
   "execution_count": 29,
   "metadata": {
    "hide-output": false
   },
   "outputs": [
    {
     "data": {
      "text/html": [
       "abs(x::<b>Real</b>) in Base at <a href=\"https://github.com/JuliaLang/julia/tree/80516ca20297a67b996caa08c38786332379b6a5/base/number.jl#L144\" target=\"_blank\">number.jl:144</a>"
      ],
      "text/plain": [
       "abs(x::Real) in Base at number.jl:144"
      ]
     },
     "execution_count": 29,
     "metadata": {},
     "output_type": "execute_result"
    }
   ],
   "source": [
    "@which abs(BigFloat(1.0))"
   ]
  },
  {
   "cell_type": "markdown",
   "metadata": {},
   "source": [
    "With implementations"
   ]
  },
  {
   "cell_type": "markdown",
   "metadata": {
    "hide-output": false
   },
   "source": [
    "```julia\n",
    "abs(x::Real) = ifelse(signbit(x), -x, x)\n",
    "abs(x::Float64) = abs_float(x)\n",
    "```\n"
   ]
  },
  {
   "cell_type": "markdown",
   "metadata": {},
   "source": [
    "For a `Real` number (which we will discuss in the next section) the fallback implementation calls a function `signbit` to determine if it should flip the sign of the number\n",
    "\n",
    "The specialized version for `Float64 <: Real` calls a function called `abs_float` – which turns out to be a specialized implementation at the compiler level\n",
    "\n",
    "While we have not completely dissected the tree of function calls, at the bottom of the tree you will end at the most optimized version of the function for the underlying datatype\n",
    "\n",
    "Hopefully this showcases the power of generic programming:  with a well-designed set of abstract types and functions, the code can both be highly general and composable and still use the most efficient implementation possible"
   ]
  },
  {
   "cell_type": "markdown",
   "metadata": {},
   "source": [
    "## Reals and Algebraic Structures\n",
    "\n",
    "Thinking back to the mathematical motivation, a [field](https://en.wikipedia.org/wiki/Field_%28mathematics%29) is a `ring` with a few additional properties, among them\n",
    "\n",
    "> - a multiplicative inverse: $ a^{-1} $  \n",
    "- an inverse operation for multiplication: $ a / b = a \\cdot b^{-1} $  \n",
    "\n",
    "\n",
    "\n",
    "Furthermore, we will make it a [total ordered](https://en.wikipedia.org/wiki/Total_order#Strict_total_order) field with\n",
    "\n",
    "> - a total ordering binary operator: $ a < b $  \n",
    "\n",
    "\n",
    "\n",
    "This type gives some motivation for the operations and properties of the `Real` type\n",
    "\n",
    "Of course, `Complex{Float64} <: Number` but not `Real` – since the ordering is not defined for complex numbers in mathematics\n",
    "\n",
    "These operations are implemented in any subtype of `Real` through\n",
    "\n",
    "> - the multiplicative inverse: `inv(a)`  \n",
    "- the multiplicative inverse operation: `a / b = a * inv(b)`  \n",
    "- an ordering `a < b`  \n",
    "\n",
    "\n",
    "\n",
    "We have already shown these with the `Float64` and `BigFloat`\n",
    "\n",
    "To show this for the `Rational` number type, where `a // b` constructs a rational number $ \\frac{a}{b} $"
   ]
  },
  {
   "cell_type": "code",
   "execution_count": 30,
   "metadata": {
    "hide-output": false
   },
   "outputs": [
    {
     "name": "stdout",
     "output_type": "stream",
     "text": [
      "typeof(a) = Rational{Int64}\n",
      "typeof(a) <: Number = true\n",
      "typeof(a) <: Real = true\n",
      "inv(a) = 10//1\n",
      "a / b = 3//20\n",
      "a < b = true\n"
     ]
    }
   ],
   "source": [
    "a = 1 // 10\n",
    "b = 4 // 6\n",
    "@show typeof(a)\n",
    "@show typeof(a) <: Number\n",
    "@show typeof(a) <: Real\n",
    "@show inv(a)\n",
    "@show a / b\n",
    "@show a < b;"
   ]
  },
  {
   "cell_type": "markdown",
   "metadata": {},
   "source": [
    "**Remark:** Here we see where and how the precise connection to the mathematics for number types breaks down for practical reasons, in particular\n",
    "\n",
    "> - `Integer` types (i.e., `Int64 <: Integer`) do not have a a multiplicative inverse with closure in the set  \n",
    "- However, it is necessary in practice for integer division to be defined, and return back a member of the `Real`’s  \n",
    "- This is called [type promotion](https://docs.julialang.org/en/v1/manual/conversion-and-promotion/#Promotion-1), where a type can be converted to another to ensure an operation is possible by direct conversion between types (i.e., it can be independent of the type hierarchy)  \n",
    "\n",
    "\n",
    "\n",
    "Do not think of the break in the connection between the underlying algebraic structures and the code as a failure of the language or design\n",
    "\n",
    "Rather, the underlying algorithms for use on a computer do not perfectly fit the algebraic structures in this instance\n",
    "\n",
    "Moving further down the tree of types provides more operations more directly tied to the computational implementation than abstract algebra\n",
    "\n",
    "For example, floating point numbers have a machine precision, below which numbers become indistinguishable due to lack of sufficient “bits” of information"
   ]
  },
  {
   "cell_type": "code",
   "execution_count": 31,
   "metadata": {
    "hide-output": false
   },
   "outputs": [
    {
     "name": "stdout",
     "output_type": "stream",
     "text": [
      "Float64 <: AbstractFloat = true\n",
      "BigFloat <: AbstractFloat = true\n",
      "eps(Float64) = 2.220446049250313e-16\n",
      "eps(BigFloat) = "
     ]
    },
    {
     "name": "stdout",
     "output_type": "stream",
     "text": [
      "1.727233711018888925077270372560079914223200072887256277004740694033718360632485e-77\n"
     ]
    }
   ],
   "source": [
    "@show Float64 <: AbstractFloat\n",
    "@show BigFloat <: AbstractFloat\n",
    "@show eps(Float64)\n",
    "@show eps(BigFloat);"
   ]
  },
  {
   "cell_type": "markdown",
   "metadata": {},
   "source": [
    "The `isless` function also has multiple methods\n",
    "\n",
    "First let’s try with integers"
   ]
  },
  {
   "cell_type": "code",
   "execution_count": 32,
   "metadata": {
    "hide-output": false
   },
   "outputs": [
    {
     "data": {
      "text/html": [
       "isless(x::<b>Real</b>, y::<b>Real</b>) in Base at <a href=\"https://github.com/JuliaLang/julia/tree/80516ca20297a67b996caa08c38786332379b6a5/base/operators.jl#L338\" target=\"_blank\">operators.jl:338</a>"
      ],
      "text/plain": [
       "isless(x::Real, y::Real) in Base at operators.jl:338"
      ]
     },
     "execution_count": 32,
     "metadata": {},
     "output_type": "execute_result"
    }
   ],
   "source": [
    "@which isless(1, 2)"
   ]
  },
  {
   "cell_type": "markdown",
   "metadata": {},
   "source": [
    "As we saw previously, the `Real` data type is an *abstract* type, and encompasses both floats and integers\n",
    "\n",
    "If we go to the provided link in the source, we see the entirety of the function is"
   ]
  },
  {
   "cell_type": "markdown",
   "metadata": {
    "hide-output": false
   },
   "source": [
    "```julia\n",
    "isless(x::Real, y::Real) = x<y\n",
    "```\n"
   ]
  },
  {
   "cell_type": "markdown",
   "metadata": {},
   "source": [
    "That is, for any values where `typeof(x) <: Real` and `typeof(y) <: Real`, the definition relies on `<`\n",
    "\n",
    "We know that `<` is defined for the types because it is part of the informal interface for the `Real` abstract type\n",
    "\n",
    "Note that this is not defined for `Number` because not all `Number` types have the `<` ordering operator defined (e.g. `Complex`)\n",
    "\n",
    "In order to generate fast code, the implementation details may define specialized versions of these operations"
   ]
  },
  {
   "cell_type": "code",
   "execution_count": 33,
   "metadata": {
    "hide-output": false
   },
   "outputs": [
    {
     "data": {
      "text/html": [
       "isless(x::<b>Float64</b>, y::<b>Float64</b>) in Base at <a href=\"https://github.com/JuliaLang/julia/tree/80516ca20297a67b996caa08c38786332379b6a5/base/float.jl#L459\" target=\"_blank\">float.jl:459</a>"
      ],
      "text/plain": [
       "isless(x::Float64, y::Float64) in Base at float.jl:459"
      ]
     },
     "execution_count": 33,
     "metadata": {},
     "output_type": "execute_result"
    }
   ],
   "source": [
    "isless(1.0, 2.0)  # applied to two floats\n",
    "@which isless(1.0, 2.0)"
   ]
  },
  {
   "cell_type": "markdown",
   "metadata": {},
   "source": [
    "Note that the reason  `Float64 <: Real` calls this implementation rather than the one given above, is that `Float64 <: Real`, and Julia chooses the most specialized implementation for each function\n",
    "\n",
    "The specialized implementations are often more subtle than you may realize due to [floating point arithmetic](https://docs.oracle.com/cd/E19957-01/806-3568/ncg_goldberg.html), [underflow](https://en.wikipedia.org/wiki/Arithmetic_underflow), etc."
   ]
  },
  {
   "cell_type": "markdown",
   "metadata": {},
   "source": [
    "## Functions, and Function-Like Types\n",
    "\n",
    "Another common example of the separation between data structures and algorithms is the use of functions\n",
    "\n",
    "Syntactically, a univariate “function” is any `f` that can call an argument `x` as `f(x)`\n",
    "\n",
    "For example, we can use a standard function"
   ]
  },
  {
   "cell_type": "code",
   "execution_count": 34,
   "metadata": {
    "hide-output": false
   },
   "outputs": [
    {
     "name": "stdout",
     "output_type": "stream",
     "text": [
      "quadgk(f, 0.0, 1.0) = (0.3333333333333333, 5.551115123125783e-17)\n"
     ]
    },
    {
     "data": {
      "image/svg+xml": [
       "<?xml version=\"1.0\" encoding=\"utf-8\"?>\n",
       "<svg xmlns=\"http://www.w3.org/2000/svg\" xmlns:xlink=\"http://www.w3.org/1999/xlink\" width=\"600\" height=\"400\" viewBox=\"0 0 2400 1600\">\n",
       "<defs>\n",
       "  <clipPath id=\"clip1800\">\n",
       "    <rect x=\"0\" y=\"0\" width=\"2000\" height=\"2000\"/>\n",
       "  </clipPath>\n",
       "</defs>\n",
       "<defs>\n",
       "  <clipPath id=\"clip1801\">\n",
       "    <rect x=\"0\" y=\"0\" width=\"2400\" height=\"1600\"/>\n",
       "  </clipPath>\n",
       "</defs>\n",
       "<polygon clip-path=\"url(#clip1801)\" points=\"\n",
       "0,1600 2400,1600 2400,0 0,0 \n",
       "  \" fill=\"#ffffff\" fill-rule=\"evenodd\" fill-opacity=\"1\"/>\n",
       "<defs>\n",
       "  <clipPath id=\"clip1802\">\n",
       "    <rect x=\"480\" y=\"0\" width=\"1681\" height=\"1600\"/>\n",
       "  </clipPath>\n",
       "</defs>\n",
       "<polygon clip-path=\"url(#clip1801)\" points=\"\n",
       "188.156,1503.47 2321.26,1503.47 2321.26,47.2441 188.156,47.2441 \n",
       "  \" fill=\"#ffffff\" fill-rule=\"evenodd\" fill-opacity=\"1\"/>\n",
       "<defs>\n",
       "  <clipPath id=\"clip1803\">\n",
       "    <rect x=\"188\" y=\"47\" width=\"2134\" height=\"1457\"/>\n",
       "  </clipPath>\n",
       "</defs>\n",
       "<polyline clip-path=\"url(#clip1803)\" style=\"stroke:#000000; stroke-width:2; stroke-opacity:0.1; fill:none\" points=\"\n",
       "  248.527,1503.47 248.527,47.2441 \n",
       "  \"/>\n",
       "<polyline clip-path=\"url(#clip1803)\" style=\"stroke:#000000; stroke-width:2; stroke-opacity:0.1; fill:none\" points=\"\n",
       "  751.618,1503.47 751.618,47.2441 \n",
       "  \"/>\n",
       "<polyline clip-path=\"url(#clip1803)\" style=\"stroke:#000000; stroke-width:2; stroke-opacity:0.1; fill:none\" points=\"\n",
       "  1254.71,1503.47 1254.71,47.2441 \n",
       "  \"/>\n",
       "<polyline clip-path=\"url(#clip1803)\" style=\"stroke:#000000; stroke-width:2; stroke-opacity:0.1; fill:none\" points=\"\n",
       "  1757.8,1503.47 1757.8,47.2441 \n",
       "  \"/>\n",
       "<polyline clip-path=\"url(#clip1803)\" style=\"stroke:#000000; stroke-width:2; stroke-opacity:0.1; fill:none\" points=\"\n",
       "  2260.89,1503.47 2260.89,47.2441 \n",
       "  \"/>\n",
       "<polyline clip-path=\"url(#clip1803)\" style=\"stroke:#000000; stroke-width:2; stroke-opacity:0.1; fill:none\" points=\"\n",
       "  188.156,1462.26 2321.26,1462.26 \n",
       "  \"/>\n",
       "<polyline clip-path=\"url(#clip1803)\" style=\"stroke:#000000; stroke-width:2; stroke-opacity:0.1; fill:none\" points=\"\n",
       "  188.156,1118.81 2321.26,1118.81 \n",
       "  \"/>\n",
       "<polyline clip-path=\"url(#clip1803)\" style=\"stroke:#000000; stroke-width:2; stroke-opacity:0.1; fill:none\" points=\"\n",
       "  188.156,775.359 2321.26,775.359 \n",
       "  \"/>\n",
       "<polyline clip-path=\"url(#clip1803)\" style=\"stroke:#000000; stroke-width:2; stroke-opacity:0.1; fill:none\" points=\"\n",
       "  188.156,431.909 2321.26,431.909 \n",
       "  \"/>\n",
       "<polyline clip-path=\"url(#clip1803)\" style=\"stroke:#000000; stroke-width:2; stroke-opacity:0.1; fill:none\" points=\"\n",
       "  188.156,88.4582 2321.26,88.4582 \n",
       "  \"/>\n",
       "<polyline clip-path=\"url(#clip1801)\" style=\"stroke:#000000; stroke-width:4; stroke-opacity:1; fill:none\" points=\"\n",
       "  188.156,1503.47 2321.26,1503.47 \n",
       "  \"/>\n",
       "<polyline clip-path=\"url(#clip1801)\" style=\"stroke:#000000; stroke-width:4; stroke-opacity:1; fill:none\" points=\"\n",
       "  188.156,1503.47 188.156,47.2441 \n",
       "  \"/>\n",
       "<polyline clip-path=\"url(#clip1801)\" style=\"stroke:#000000; stroke-width:4; stroke-opacity:1; fill:none\" points=\"\n",
       "  248.527,1503.47 248.527,1481.63 \n",
       "  \"/>\n",
       "<polyline clip-path=\"url(#clip1801)\" style=\"stroke:#000000; stroke-width:4; stroke-opacity:1; fill:none\" points=\"\n",
       "  751.618,1503.47 751.618,1481.63 \n",
       "  \"/>\n",
       "<polyline clip-path=\"url(#clip1801)\" style=\"stroke:#000000; stroke-width:4; stroke-opacity:1; fill:none\" points=\"\n",
       "  1254.71,1503.47 1254.71,1481.63 \n",
       "  \"/>\n",
       "<polyline clip-path=\"url(#clip1801)\" style=\"stroke:#000000; stroke-width:4; stroke-opacity:1; fill:none\" points=\"\n",
       "  1757.8,1503.47 1757.8,1481.63 \n",
       "  \"/>\n",
       "<polyline clip-path=\"url(#clip1801)\" style=\"stroke:#000000; stroke-width:4; stroke-opacity:1; fill:none\" points=\"\n",
       "  2260.89,1503.47 2260.89,1481.63 \n",
       "  \"/>\n",
       "<polyline clip-path=\"url(#clip1801)\" style=\"stroke:#000000; stroke-width:4; stroke-opacity:1; fill:none\" points=\"\n",
       "  188.156,1462.26 220.153,1462.26 \n",
       "  \"/>\n",
       "<polyline clip-path=\"url(#clip1801)\" style=\"stroke:#000000; stroke-width:4; stroke-opacity:1; fill:none\" points=\"\n",
       "  188.156,1118.81 220.153,1118.81 \n",
       "  \"/>\n",
       "<polyline clip-path=\"url(#clip1801)\" style=\"stroke:#000000; stroke-width:4; stroke-opacity:1; fill:none\" points=\"\n",
       "  188.156,775.359 220.153,775.359 \n",
       "  \"/>\n",
       "<polyline clip-path=\"url(#clip1801)\" style=\"stroke:#000000; stroke-width:4; stroke-opacity:1; fill:none\" points=\"\n",
       "  188.156,431.909 220.153,431.909 \n",
       "  \"/>\n",
       "<polyline clip-path=\"url(#clip1801)\" style=\"stroke:#000000; stroke-width:4; stroke-opacity:1; fill:none\" points=\"\n",
       "  188.156,88.4582 220.153,88.4582 \n",
       "  \"/>\n",
       "<g clip-path=\"url(#clip1801)\">\n",
       "<text style=\"fill:#000000; fill-opacity:1; font-family:Arial,Helvetica Neue,Helvetica,sans-serif; font-size:48px; text-anchor:middle;\" transform=\"rotate(0, 248.527, 1557.47)\" x=\"248.527\" y=\"1557.47\">0.00</text>\n",
       "</g>\n",
       "<g clip-path=\"url(#clip1801)\">\n",
       "<text style=\"fill:#000000; fill-opacity:1; font-family:Arial,Helvetica Neue,Helvetica,sans-serif; font-size:48px; text-anchor:middle;\" transform=\"rotate(0, 751.618, 1557.47)\" x=\"751.618\" y=\"1557.47\">0.25</text>\n",
       "</g>\n",
       "<g clip-path=\"url(#clip1801)\">\n",
       "<text style=\"fill:#000000; fill-opacity:1; font-family:Arial,Helvetica Neue,Helvetica,sans-serif; font-size:48px; text-anchor:middle;\" transform=\"rotate(0, 1254.71, 1557.47)\" x=\"1254.71\" y=\"1557.47\">0.50</text>\n",
       "</g>\n",
       "<g clip-path=\"url(#clip1801)\">\n",
       "<text style=\"fill:#000000; fill-opacity:1; font-family:Arial,Helvetica Neue,Helvetica,sans-serif; font-size:48px; text-anchor:middle;\" transform=\"rotate(0, 1757.8, 1557.47)\" x=\"1757.8\" y=\"1557.47\">0.75</text>\n",
       "</g>\n",
       "<g clip-path=\"url(#clip1801)\">\n",
       "<text style=\"fill:#000000; fill-opacity:1; font-family:Arial,Helvetica Neue,Helvetica,sans-serif; font-size:48px; text-anchor:middle;\" transform=\"rotate(0, 2260.89, 1557.47)\" x=\"2260.89\" y=\"1557.47\">1.00</text>\n",
       "</g>\n",
       "<g clip-path=\"url(#clip1801)\">\n",
       "<text style=\"fill:#000000; fill-opacity:1; font-family:Arial,Helvetica Neue,Helvetica,sans-serif; font-size:48px; text-anchor:end;\" transform=\"rotate(0, 164.156, 1479.76)\" x=\"164.156\" y=\"1479.76\">0.00</text>\n",
       "</g>\n",
       "<g clip-path=\"url(#clip1801)\">\n",
       "<text style=\"fill:#000000; fill-opacity:1; font-family:Arial,Helvetica Neue,Helvetica,sans-serif; font-size:48px; text-anchor:end;\" transform=\"rotate(0, 164.156, 1136.31)\" x=\"164.156\" y=\"1136.31\">0.25</text>\n",
       "</g>\n",
       "<g clip-path=\"url(#clip1801)\">\n",
       "<text style=\"fill:#000000; fill-opacity:1; font-family:Arial,Helvetica Neue,Helvetica,sans-serif; font-size:48px; text-anchor:end;\" transform=\"rotate(0, 164.156, 792.859)\" x=\"164.156\" y=\"792.859\">0.50</text>\n",
       "</g>\n",
       "<g clip-path=\"url(#clip1801)\">\n",
       "<text style=\"fill:#000000; fill-opacity:1; font-family:Arial,Helvetica Neue,Helvetica,sans-serif; font-size:48px; text-anchor:end;\" transform=\"rotate(0, 164.156, 449.409)\" x=\"164.156\" y=\"449.409\">0.75</text>\n",
       "</g>\n",
       "<g clip-path=\"url(#clip1801)\">\n",
       "<text style=\"fill:#000000; fill-opacity:1; font-family:Arial,Helvetica Neue,Helvetica,sans-serif; font-size:48px; text-anchor:end;\" transform=\"rotate(0, 164.156, 105.958)\" x=\"164.156\" y=\"105.958\">1.00</text>\n",
       "</g>\n",
       "<polyline clip-path=\"url(#clip1803)\" style=\"stroke:#009af9; stroke-width:4; stroke-opacity:1; fill:none\" points=\"\n",
       "  248.527,1462.26 449.763,1448.52 651,1407.31 852.236,1338.62 1053.47,1242.45 1254.71,1118.81 1455.94,967.692 1657.18,789.097 1858.42,583.027 2059.65,349.481 \n",
       "  2260.89,88.4582 \n",
       "  \"/>\n",
       "<polyline clip-path=\"url(#clip1803)\" style=\"stroke:#e26f46; stroke-width:4; stroke-opacity:1; fill:none\" points=\"\n",
       "  248.527,1462.26 449.763,1461.8 651,1458.6 852.236,1449.9 1053.47,1432.95 1254.71,1405.02 1455.94,1363.35 1657.18,1305.19 1858.42,1227.8 2059.65,1128.43 \n",
       "  2260.89,1004.33 \n",
       "  \"/>\n",
       "<polygon clip-path=\"url(#clip1801)\" points=\"\n",
       "1918.29,312.204 2249.26,312.204 2249.26,130.764 1918.29,130.764 \n",
       "  \" fill=\"#ffffff\" fill-rule=\"evenodd\" fill-opacity=\"1\"/>\n",
       "<polyline clip-path=\"url(#clip1801)\" style=\"stroke:#000000; stroke-width:4; stroke-opacity:1; fill:none\" points=\"\n",
       "  1918.29,312.204 2249.26,312.204 2249.26,130.764 1918.29,130.764 1918.29,312.204 \n",
       "  \"/>\n",
       "<polyline clip-path=\"url(#clip1801)\" style=\"stroke:#009af9; stroke-width:4; stroke-opacity:1; fill:none\" points=\"\n",
       "  1942.29,191.244 2086.29,191.244 \n",
       "  \"/>\n",
       "<g clip-path=\"url(#clip1801)\">\n",
       "<text style=\"fill:#000000; fill-opacity:1; font-family:Arial,Helvetica Neue,Helvetica,sans-serif; font-size:48px; text-anchor:start;\" transform=\"rotate(0, 2110.29, 208.744)\" x=\"2110.29\" y=\"208.744\">f</text>\n",
       "</g>\n",
       "<polyline clip-path=\"url(#clip1801)\" style=\"stroke:#e26f46; stroke-width:4; stroke-opacity:1; fill:none\" points=\"\n",
       "  1942.29,251.724 2086.29,251.724 \n",
       "  \"/>\n",
       "<g clip-path=\"url(#clip1801)\">\n",
       "<text style=\"fill:#000000; fill-opacity:1; font-family:Arial,Helvetica Neue,Helvetica,sans-serif; font-size:48px; text-anchor:start;\" transform=\"rotate(0, 2110.29, 269.224)\" x=\"2110.29\" y=\"269.224\">int_f</text>\n",
       "</g>\n",
       "</svg>\n"
      ]
     },
     "execution_count": 34,
     "metadata": {},
     "output_type": "execute_result"
    }
   ],
   "source": [
    "using QuadGK\n",
    "f(x) = x^2\n",
    "@show quadgk(f, 0.0, 1.0)  # integral\n",
    "\n",
    "function plotfunctions(f)\n",
    "    intf(x) = quadgk(f, 0.0, x)[1]  # int_0^x f(x) dx\n",
    "\n",
    "    x = 0:0.1:1.0\n",
    "    f_x = f.(x)\n",
    "    plot(x, f_x, label=\"f\")\n",
    "    plot!(x, intf.(x), label=\"int_f\")\n",
    "end\n",
    "plotfunctions(f)  # call with our f"
   ]
  },
  {
   "cell_type": "markdown",
   "metadata": {},
   "source": [
    "Of course, univariate polynomials are another type of univariate function"
   ]
  },
  {
   "cell_type": "code",
   "execution_count": 35,
   "metadata": {
    "hide-output": false
   },
   "outputs": [
    {
     "name": "stdout",
     "output_type": "stream",
     "text": [
      "p = Poly(2 - 5*x + 2*x^2)\n",
      "p(1.0) = -1.0\n"
     ]
    },
    {
     "data": {
      "image/svg+xml": [
       "<?xml version=\"1.0\" encoding=\"utf-8\"?>\n",
       "<svg xmlns=\"http://www.w3.org/2000/svg\" xmlns:xlink=\"http://www.w3.org/1999/xlink\" width=\"600\" height=\"400\" viewBox=\"0 0 2400 1600\">\n",
       "<defs>\n",
       "  <clipPath id=\"clip2000\">\n",
       "    <rect x=\"0\" y=\"0\" width=\"2000\" height=\"2000\"/>\n",
       "  </clipPath>\n",
       "</defs>\n",
       "<defs>\n",
       "  <clipPath id=\"clip2001\">\n",
       "    <rect x=\"0\" y=\"0\" width=\"2400\" height=\"1600\"/>\n",
       "  </clipPath>\n",
       "</defs>\n",
       "<polygon clip-path=\"url(#clip2001)\" points=\"\n",
       "0,1600 2400,1600 2400,0 0,0 \n",
       "  \" fill=\"#ffffff\" fill-rule=\"evenodd\" fill-opacity=\"1\"/>\n",
       "<defs>\n",
       "  <clipPath id=\"clip2002\">\n",
       "    <rect x=\"480\" y=\"0\" width=\"1681\" height=\"1600\"/>\n",
       "  </clipPath>\n",
       "</defs>\n",
       "<polygon clip-path=\"url(#clip2001)\" points=\"\n",
       "149.361,1503.47 2321.26,1503.47 2321.26,47.2441 149.361,47.2441 \n",
       "  \" fill=\"#ffffff\" fill-rule=\"evenodd\" fill-opacity=\"1\"/>\n",
       "<defs>\n",
       "  <clipPath id=\"clip2003\">\n",
       "    <rect x=\"149\" y=\"47\" width=\"2173\" height=\"1457\"/>\n",
       "  </clipPath>\n",
       "</defs>\n",
       "<polyline clip-path=\"url(#clip2003)\" style=\"stroke:#000000; stroke-width:2; stroke-opacity:0.1; fill:none\" points=\"\n",
       "  210.829,1503.47 210.829,47.2441 \n",
       "  \"/>\n",
       "<polyline clip-path=\"url(#clip2003)\" style=\"stroke:#000000; stroke-width:2; stroke-opacity:0.1; fill:none\" points=\"\n",
       "  723.07,1503.47 723.07,47.2441 \n",
       "  \"/>\n",
       "<polyline clip-path=\"url(#clip2003)\" style=\"stroke:#000000; stroke-width:2; stroke-opacity:0.1; fill:none\" points=\"\n",
       "  1235.31,1503.47 1235.31,47.2441 \n",
       "  \"/>\n",
       "<polyline clip-path=\"url(#clip2003)\" style=\"stroke:#000000; stroke-width:2; stroke-opacity:0.1; fill:none\" points=\"\n",
       "  1747.55,1503.47 1747.55,47.2441 \n",
       "  \"/>\n",
       "<polyline clip-path=\"url(#clip2003)\" style=\"stroke:#000000; stroke-width:2; stroke-opacity:0.1; fill:none\" points=\"\n",
       "  2259.79,1503.47 2259.79,47.2441 \n",
       "  \"/>\n",
       "<polyline clip-path=\"url(#clip2003)\" style=\"stroke:#000000; stroke-width:2; stroke-opacity:0.1; fill:none\" points=\"\n",
       "  149.361,1462.26 2321.26,1462.26 \n",
       "  \"/>\n",
       "<polyline clip-path=\"url(#clip2003)\" style=\"stroke:#000000; stroke-width:2; stroke-opacity:0.1; fill:none\" points=\"\n",
       "  149.361,1004.33 2321.26,1004.33 \n",
       "  \"/>\n",
       "<polyline clip-path=\"url(#clip2003)\" style=\"stroke:#000000; stroke-width:2; stroke-opacity:0.1; fill:none\" points=\"\n",
       "  149.361,546.392 2321.26,546.392 \n",
       "  \"/>\n",
       "<polyline clip-path=\"url(#clip2003)\" style=\"stroke:#000000; stroke-width:2; stroke-opacity:0.1; fill:none\" points=\"\n",
       "  149.361,88.4582 2321.26,88.4582 \n",
       "  \"/>\n",
       "<polyline clip-path=\"url(#clip2001)\" style=\"stroke:#000000; stroke-width:4; stroke-opacity:1; fill:none\" points=\"\n",
       "  149.361,1503.47 2321.26,1503.47 \n",
       "  \"/>\n",
       "<polyline clip-path=\"url(#clip2001)\" style=\"stroke:#000000; stroke-width:4; stroke-opacity:1; fill:none\" points=\"\n",
       "  149.361,1503.47 149.361,47.2441 \n",
       "  \"/>\n",
       "<polyline clip-path=\"url(#clip2001)\" style=\"stroke:#000000; stroke-width:4; stroke-opacity:1; fill:none\" points=\"\n",
       "  210.829,1503.47 210.829,1481.63 \n",
       "  \"/>\n",
       "<polyline clip-path=\"url(#clip2001)\" style=\"stroke:#000000; stroke-width:4; stroke-opacity:1; fill:none\" points=\"\n",
       "  723.07,1503.47 723.07,1481.63 \n",
       "  \"/>\n",
       "<polyline clip-path=\"url(#clip2001)\" style=\"stroke:#000000; stroke-width:4; stroke-opacity:1; fill:none\" points=\"\n",
       "  1235.31,1503.47 1235.31,1481.63 \n",
       "  \"/>\n",
       "<polyline clip-path=\"url(#clip2001)\" style=\"stroke:#000000; stroke-width:4; stroke-opacity:1; fill:none\" points=\"\n",
       "  1747.55,1503.47 1747.55,1481.63 \n",
       "  \"/>\n",
       "<polyline clip-path=\"url(#clip2001)\" style=\"stroke:#000000; stroke-width:4; stroke-opacity:1; fill:none\" points=\"\n",
       "  2259.79,1503.47 2259.79,1481.63 \n",
       "  \"/>\n",
       "<polyline clip-path=\"url(#clip2001)\" style=\"stroke:#000000; stroke-width:4; stroke-opacity:1; fill:none\" points=\"\n",
       "  149.361,1462.26 181.939,1462.26 \n",
       "  \"/>\n",
       "<polyline clip-path=\"url(#clip2001)\" style=\"stroke:#000000; stroke-width:4; stroke-opacity:1; fill:none\" points=\"\n",
       "  149.361,1004.33 181.939,1004.33 \n",
       "  \"/>\n",
       "<polyline clip-path=\"url(#clip2001)\" style=\"stroke:#000000; stroke-width:4; stroke-opacity:1; fill:none\" points=\"\n",
       "  149.361,546.392 181.939,546.392 \n",
       "  \"/>\n",
       "<polyline clip-path=\"url(#clip2001)\" style=\"stroke:#000000; stroke-width:4; stroke-opacity:1; fill:none\" points=\"\n",
       "  149.361,88.4582 181.939,88.4582 \n",
       "  \"/>\n",
       "<g clip-path=\"url(#clip2001)\">\n",
       "<text style=\"fill:#000000; fill-opacity:1; font-family:Arial,Helvetica Neue,Helvetica,sans-serif; font-size:48px; text-anchor:middle;\" transform=\"rotate(0, 210.829, 1557.47)\" x=\"210.829\" y=\"1557.47\">0.00</text>\n",
       "</g>\n",
       "<g clip-path=\"url(#clip2001)\">\n",
       "<text style=\"fill:#000000; fill-opacity:1; font-family:Arial,Helvetica Neue,Helvetica,sans-serif; font-size:48px; text-anchor:middle;\" transform=\"rotate(0, 723.07, 1557.47)\" x=\"723.07\" y=\"1557.47\">0.25</text>\n",
       "</g>\n",
       "<g clip-path=\"url(#clip2001)\">\n",
       "<text style=\"fill:#000000; fill-opacity:1; font-family:Arial,Helvetica Neue,Helvetica,sans-serif; font-size:48px; text-anchor:middle;\" transform=\"rotate(0, 1235.31, 1557.47)\" x=\"1235.31\" y=\"1557.47\">0.50</text>\n",
       "</g>\n",
       "<g clip-path=\"url(#clip2001)\">\n",
       "<text style=\"fill:#000000; fill-opacity:1; font-family:Arial,Helvetica Neue,Helvetica,sans-serif; font-size:48px; text-anchor:middle;\" transform=\"rotate(0, 1747.55, 1557.47)\" x=\"1747.55\" y=\"1557.47\">0.75</text>\n",
       "</g>\n",
       "<g clip-path=\"url(#clip2001)\">\n",
       "<text style=\"fill:#000000; fill-opacity:1; font-family:Arial,Helvetica Neue,Helvetica,sans-serif; font-size:48px; text-anchor:middle;\" transform=\"rotate(0, 2259.79, 1557.47)\" x=\"2259.79\" y=\"1557.47\">1.00</text>\n",
       "</g>\n",
       "<g clip-path=\"url(#clip2001)\">\n",
       "<text style=\"fill:#000000; fill-opacity:1; font-family:Arial,Helvetica Neue,Helvetica,sans-serif; font-size:48px; text-anchor:end;\" transform=\"rotate(0, 125.361, 1479.76)\" x=\"125.361\" y=\"1479.76\">-1</text>\n",
       "</g>\n",
       "<g clip-path=\"url(#clip2001)\">\n",
       "<text style=\"fill:#000000; fill-opacity:1; font-family:Arial,Helvetica Neue,Helvetica,sans-serif; font-size:48px; text-anchor:end;\" transform=\"rotate(0, 125.361, 1021.83)\" x=\"125.361\" y=\"1021.83\">0</text>\n",
       "</g>\n",
       "<g clip-path=\"url(#clip2001)\">\n",
       "<text style=\"fill:#000000; fill-opacity:1; font-family:Arial,Helvetica Neue,Helvetica,sans-serif; font-size:48px; text-anchor:end;\" transform=\"rotate(0, 125.361, 563.892)\" x=\"125.361\" y=\"563.892\">1</text>\n",
       "</g>\n",
       "<g clip-path=\"url(#clip2001)\">\n",
       "<text style=\"fill:#000000; fill-opacity:1; font-family:Arial,Helvetica Neue,Helvetica,sans-serif; font-size:48px; text-anchor:end;\" transform=\"rotate(0, 125.361, 105.958)\" x=\"125.361\" y=\"105.958\">2</text>\n",
       "</g>\n",
       "<polyline clip-path=\"url(#clip2003)\" style=\"stroke:#009af9; stroke-width:4; stroke-opacity:1; fill:none\" points=\"\n",
       "  210.829,88.4582 415.726,308.267 620.622,509.758 825.518,692.931 1030.41,857.788 1235.31,1004.33 1440.21,1132.55 1645.1,1242.45 1850,1334.04 2054.89,1407.31 \n",
       "  2259.79,1462.26 \n",
       "  \"/>\n",
       "<polyline clip-path=\"url(#clip2003)\" style=\"stroke:#e26f46; stroke-width:4; stroke-opacity:1; fill:none\" points=\"\n",
       "  210.829,1004.33 415.726,923.883 620.622,864.504 825.518,824.358 1030.41,801.614 1235.31,794.44 1440.21,801.004 1645.1,819.474 1850,848.018 2054.89,884.806 \n",
       "  2259.79,928.004 \n",
       "  \"/>\n",
       "<polygon clip-path=\"url(#clip2001)\" points=\"\n",
       "1918.29,312.204 2249.26,312.204 2249.26,130.764 1918.29,130.764 \n",
       "  \" fill=\"#ffffff\" fill-rule=\"evenodd\" fill-opacity=\"1\"/>\n",
       "<polyline clip-path=\"url(#clip2001)\" style=\"stroke:#000000; stroke-width:4; stroke-opacity:1; fill:none\" points=\"\n",
       "  1918.29,312.204 2249.26,312.204 2249.26,130.764 1918.29,130.764 1918.29,312.204 \n",
       "  \"/>\n",
       "<polyline clip-path=\"url(#clip2001)\" style=\"stroke:#009af9; stroke-width:4; stroke-opacity:1; fill:none\" points=\"\n",
       "  1942.29,191.244 2086.29,191.244 \n",
       "  \"/>\n",
       "<g clip-path=\"url(#clip2001)\">\n",
       "<text style=\"fill:#000000; fill-opacity:1; font-family:Arial,Helvetica Neue,Helvetica,sans-serif; font-size:48px; text-anchor:start;\" transform=\"rotate(0, 2110.29, 208.744)\" x=\"2110.29\" y=\"208.744\">f</text>\n",
       "</g>\n",
       "<polyline clip-path=\"url(#clip2001)\" style=\"stroke:#e26f46; stroke-width:4; stroke-opacity:1; fill:none\" points=\"\n",
       "  1942.29,251.724 2086.29,251.724 \n",
       "  \"/>\n",
       "<g clip-path=\"url(#clip2001)\">\n",
       "<text style=\"fill:#000000; fill-opacity:1; font-family:Arial,Helvetica Neue,Helvetica,sans-serif; font-size:48px; text-anchor:start;\" transform=\"rotate(0, 2110.29, 269.224)\" x=\"2110.29\" y=\"269.224\">int_f</text>\n",
       "</g>\n",
       "</svg>\n"
      ]
     },
     "execution_count": 35,
     "metadata": {},
     "output_type": "execute_result"
    }
   ],
   "source": [
    "using Polynomials\n",
    "p = Poly([2, -5, 2], :x)  # :x just gives a symbol for display\n",
    "@show p\n",
    "@show p(1.0) # call like a function\n",
    "\n",
    "plotfunctions(p)  # same generic function"
   ]
  },
  {
   "cell_type": "markdown",
   "metadata": {},
   "source": [
    "Similarly, the result of interpolating data is also a function"
   ]
  },
  {
   "cell_type": "code",
   "execution_count": 36,
   "metadata": {
    "hide-output": false
   },
   "outputs": [
    {
     "name": "stdout",
     "output_type": "stream",
     "text": [
      "f_int(1.0) = 1.0\n"
     ]
    },
    {
     "data": {
      "image/svg+xml": [
       "<?xml version=\"1.0\" encoding=\"utf-8\"?>\n",
       "<svg xmlns=\"http://www.w3.org/2000/svg\" xmlns:xlink=\"http://www.w3.org/1999/xlink\" width=\"600\" height=\"400\" viewBox=\"0 0 2400 1600\">\n",
       "<defs>\n",
       "  <clipPath id=\"clip2200\">\n",
       "    <rect x=\"0\" y=\"0\" width=\"2000\" height=\"2000\"/>\n",
       "  </clipPath>\n",
       "</defs>\n",
       "<defs>\n",
       "  <clipPath id=\"clip2201\">\n",
       "    <rect x=\"0\" y=\"0\" width=\"2400\" height=\"1600\"/>\n",
       "  </clipPath>\n",
       "</defs>\n",
       "<polygon clip-path=\"url(#clip2201)\" points=\"\n",
       "0,1600 2400,1600 2400,0 0,0 \n",
       "  \" fill=\"#ffffff\" fill-rule=\"evenodd\" fill-opacity=\"1\"/>\n",
       "<defs>\n",
       "  <clipPath id=\"clip2202\">\n",
       "    <rect x=\"480\" y=\"0\" width=\"1681\" height=\"1600\"/>\n",
       "  </clipPath>\n",
       "</defs>\n",
       "<polygon clip-path=\"url(#clip2201)\" points=\"\n",
       "188.156,1503.47 2321.26,1503.47 2321.26,47.2441 188.156,47.2441 \n",
       "  \" fill=\"#ffffff\" fill-rule=\"evenodd\" fill-opacity=\"1\"/>\n",
       "<defs>\n",
       "  <clipPath id=\"clip2203\">\n",
       "    <rect x=\"188\" y=\"47\" width=\"2134\" height=\"1457\"/>\n",
       "  </clipPath>\n",
       "</defs>\n",
       "<polyline clip-path=\"url(#clip2203)\" style=\"stroke:#000000; stroke-width:2; stroke-opacity:0.1; fill:none\" points=\"\n",
       "  248.527,1503.47 248.527,47.2441 \n",
       "  \"/>\n",
       "<polyline clip-path=\"url(#clip2203)\" style=\"stroke:#000000; stroke-width:2; stroke-opacity:0.1; fill:none\" points=\"\n",
       "  751.618,1503.47 751.618,47.2441 \n",
       "  \"/>\n",
       "<polyline clip-path=\"url(#clip2203)\" style=\"stroke:#000000; stroke-width:2; stroke-opacity:0.1; fill:none\" points=\"\n",
       "  1254.71,1503.47 1254.71,47.2441 \n",
       "  \"/>\n",
       "<polyline clip-path=\"url(#clip2203)\" style=\"stroke:#000000; stroke-width:2; stroke-opacity:0.1; fill:none\" points=\"\n",
       "  1757.8,1503.47 1757.8,47.2441 \n",
       "  \"/>\n",
       "<polyline clip-path=\"url(#clip2203)\" style=\"stroke:#000000; stroke-width:2; stroke-opacity:0.1; fill:none\" points=\"\n",
       "  2260.89,1503.47 2260.89,47.2441 \n",
       "  \"/>\n",
       "<polyline clip-path=\"url(#clip2203)\" style=\"stroke:#000000; stroke-width:2; stroke-opacity:0.1; fill:none\" points=\"\n",
       "  188.156,1462.26 2321.26,1462.26 \n",
       "  \"/>\n",
       "<polyline clip-path=\"url(#clip2203)\" style=\"stroke:#000000; stroke-width:2; stroke-opacity:0.1; fill:none\" points=\"\n",
       "  188.156,1118.81 2321.26,1118.81 \n",
       "  \"/>\n",
       "<polyline clip-path=\"url(#clip2203)\" style=\"stroke:#000000; stroke-width:2; stroke-opacity:0.1; fill:none\" points=\"\n",
       "  188.156,775.359 2321.26,775.359 \n",
       "  \"/>\n",
       "<polyline clip-path=\"url(#clip2203)\" style=\"stroke:#000000; stroke-width:2; stroke-opacity:0.1; fill:none\" points=\"\n",
       "  188.156,431.909 2321.26,431.909 \n",
       "  \"/>\n",
       "<polyline clip-path=\"url(#clip2203)\" style=\"stroke:#000000; stroke-width:2; stroke-opacity:0.1; fill:none\" points=\"\n",
       "  188.156,88.4582 2321.26,88.4582 \n",
       "  \"/>\n",
       "<polyline clip-path=\"url(#clip2201)\" style=\"stroke:#000000; stroke-width:4; stroke-opacity:1; fill:none\" points=\"\n",
       "  188.156,1503.47 2321.26,1503.47 \n",
       "  \"/>\n",
       "<polyline clip-path=\"url(#clip2201)\" style=\"stroke:#000000; stroke-width:4; stroke-opacity:1; fill:none\" points=\"\n",
       "  188.156,1503.47 188.156,47.2441 \n",
       "  \"/>\n",
       "<polyline clip-path=\"url(#clip2201)\" style=\"stroke:#000000; stroke-width:4; stroke-opacity:1; fill:none\" points=\"\n",
       "  248.527,1503.47 248.527,1481.63 \n",
       "  \"/>\n",
       "<polyline clip-path=\"url(#clip2201)\" style=\"stroke:#000000; stroke-width:4; stroke-opacity:1; fill:none\" points=\"\n",
       "  751.618,1503.47 751.618,1481.63 \n",
       "  \"/>\n",
       "<polyline clip-path=\"url(#clip2201)\" style=\"stroke:#000000; stroke-width:4; stroke-opacity:1; fill:none\" points=\"\n",
       "  1254.71,1503.47 1254.71,1481.63 \n",
       "  \"/>\n",
       "<polyline clip-path=\"url(#clip2201)\" style=\"stroke:#000000; stroke-width:4; stroke-opacity:1; fill:none\" points=\"\n",
       "  1757.8,1503.47 1757.8,1481.63 \n",
       "  \"/>\n",
       "<polyline clip-path=\"url(#clip2201)\" style=\"stroke:#000000; stroke-width:4; stroke-opacity:1; fill:none\" points=\"\n",
       "  2260.89,1503.47 2260.89,1481.63 \n",
       "  \"/>\n",
       "<polyline clip-path=\"url(#clip2201)\" style=\"stroke:#000000; stroke-width:4; stroke-opacity:1; fill:none\" points=\"\n",
       "  188.156,1462.26 220.153,1462.26 \n",
       "  \"/>\n",
       "<polyline clip-path=\"url(#clip2201)\" style=\"stroke:#000000; stroke-width:4; stroke-opacity:1; fill:none\" points=\"\n",
       "  188.156,1118.81 220.153,1118.81 \n",
       "  \"/>\n",
       "<polyline clip-path=\"url(#clip2201)\" style=\"stroke:#000000; stroke-width:4; stroke-opacity:1; fill:none\" points=\"\n",
       "  188.156,775.359 220.153,775.359 \n",
       "  \"/>\n",
       "<polyline clip-path=\"url(#clip2201)\" style=\"stroke:#000000; stroke-width:4; stroke-opacity:1; fill:none\" points=\"\n",
       "  188.156,431.909 220.153,431.909 \n",
       "  \"/>\n",
       "<polyline clip-path=\"url(#clip2201)\" style=\"stroke:#000000; stroke-width:4; stroke-opacity:1; fill:none\" points=\"\n",
       "  188.156,88.4582 220.153,88.4582 \n",
       "  \"/>\n",
       "<g clip-path=\"url(#clip2201)\">\n",
       "<text style=\"fill:#000000; fill-opacity:1; font-family:Arial,Helvetica Neue,Helvetica,sans-serif; font-size:48px; text-anchor:middle;\" transform=\"rotate(0, 248.527, 1557.47)\" x=\"248.527\" y=\"1557.47\">0.00</text>\n",
       "</g>\n",
       "<g clip-path=\"url(#clip2201)\">\n",
       "<text style=\"fill:#000000; fill-opacity:1; font-family:Arial,Helvetica Neue,Helvetica,sans-serif; font-size:48px; text-anchor:middle;\" transform=\"rotate(0, 751.618, 1557.47)\" x=\"751.618\" y=\"1557.47\">0.25</text>\n",
       "</g>\n",
       "<g clip-path=\"url(#clip2201)\">\n",
       "<text style=\"fill:#000000; fill-opacity:1; font-family:Arial,Helvetica Neue,Helvetica,sans-serif; font-size:48px; text-anchor:middle;\" transform=\"rotate(0, 1254.71, 1557.47)\" x=\"1254.71\" y=\"1557.47\">0.50</text>\n",
       "</g>\n",
       "<g clip-path=\"url(#clip2201)\">\n",
       "<text style=\"fill:#000000; fill-opacity:1; font-family:Arial,Helvetica Neue,Helvetica,sans-serif; font-size:48px; text-anchor:middle;\" transform=\"rotate(0, 1757.8, 1557.47)\" x=\"1757.8\" y=\"1557.47\">0.75</text>\n",
       "</g>\n",
       "<g clip-path=\"url(#clip2201)\">\n",
       "<text style=\"fill:#000000; fill-opacity:1; font-family:Arial,Helvetica Neue,Helvetica,sans-serif; font-size:48px; text-anchor:middle;\" transform=\"rotate(0, 2260.89, 1557.47)\" x=\"2260.89\" y=\"1557.47\">1.00</text>\n",
       "</g>\n",
       "<g clip-path=\"url(#clip2201)\">\n",
       "<text style=\"fill:#000000; fill-opacity:1; font-family:Arial,Helvetica Neue,Helvetica,sans-serif; font-size:48px; text-anchor:end;\" transform=\"rotate(0, 164.156, 1479.76)\" x=\"164.156\" y=\"1479.76\">0.00</text>\n",
       "</g>\n",
       "<g clip-path=\"url(#clip2201)\">\n",
       "<text style=\"fill:#000000; fill-opacity:1; font-family:Arial,Helvetica Neue,Helvetica,sans-serif; font-size:48px; text-anchor:end;\" transform=\"rotate(0, 164.156, 1136.31)\" x=\"164.156\" y=\"1136.31\">0.25</text>\n",
       "</g>\n",
       "<g clip-path=\"url(#clip2201)\">\n",
       "<text style=\"fill:#000000; fill-opacity:1; font-family:Arial,Helvetica Neue,Helvetica,sans-serif; font-size:48px; text-anchor:end;\" transform=\"rotate(0, 164.156, 792.859)\" x=\"164.156\" y=\"792.859\">0.50</text>\n",
       "</g>\n",
       "<g clip-path=\"url(#clip2201)\">\n",
       "<text style=\"fill:#000000; fill-opacity:1; font-family:Arial,Helvetica Neue,Helvetica,sans-serif; font-size:48px; text-anchor:end;\" transform=\"rotate(0, 164.156, 449.409)\" x=\"164.156\" y=\"449.409\">0.75</text>\n",
       "</g>\n",
       "<g clip-path=\"url(#clip2201)\">\n",
       "<text style=\"fill:#000000; fill-opacity:1; font-family:Arial,Helvetica Neue,Helvetica,sans-serif; font-size:48px; text-anchor:end;\" transform=\"rotate(0, 164.156, 105.958)\" x=\"164.156\" y=\"105.958\">1.00</text>\n",
       "</g>\n",
       "<polyline clip-path=\"url(#clip2203)\" style=\"stroke:#009af9; stroke-width:4; stroke-opacity:1; fill:none\" points=\"\n",
       "  248.527,1462.26 449.763,1434.78 651,1407.31 852.236,1324.88 1053.47,1242.45 1254.71,1105.07 1455.94,967.692 1657.18,775.359 1858.42,583.027 2059.65,335.743 \n",
       "  2260.89,88.4582 \n",
       "  \"/>\n",
       "<polyline clip-path=\"url(#clip2203)\" style=\"stroke:#e26f46; stroke-width:4; stroke-opacity:1; fill:none\" points=\"\n",
       "  248.527,1462.26 449.763,1460.89 651,1456.77 852.236,1447.15 1053.47,1429.29 1254.71,1400.44 1455.94,1357.85 1657.18,1298.78 1858.42,1220.47 2059.65,1120.18 \n",
       "  2260.89,995.168 \n",
       "  \"/>\n",
       "<polygon clip-path=\"url(#clip2201)\" points=\"\n",
       "1918.29,312.204 2249.26,312.204 2249.26,130.764 1918.29,130.764 \n",
       "  \" fill=\"#ffffff\" fill-rule=\"evenodd\" fill-opacity=\"1\"/>\n",
       "<polyline clip-path=\"url(#clip2201)\" style=\"stroke:#000000; stroke-width:4; stroke-opacity:1; fill:none\" points=\"\n",
       "  1918.29,312.204 2249.26,312.204 2249.26,130.764 1918.29,130.764 1918.29,312.204 \n",
       "  \"/>\n",
       "<polyline clip-path=\"url(#clip2201)\" style=\"stroke:#009af9; stroke-width:4; stroke-opacity:1; fill:none\" points=\"\n",
       "  1942.29,191.244 2086.29,191.244 \n",
       "  \"/>\n",
       "<g clip-path=\"url(#clip2201)\">\n",
       "<text style=\"fill:#000000; fill-opacity:1; font-family:Arial,Helvetica Neue,Helvetica,sans-serif; font-size:48px; text-anchor:start;\" transform=\"rotate(0, 2110.29, 208.744)\" x=\"2110.29\" y=\"208.744\">f</text>\n",
       "</g>\n",
       "<polyline clip-path=\"url(#clip2201)\" style=\"stroke:#e26f46; stroke-width:4; stroke-opacity:1; fill:none\" points=\"\n",
       "  1942.29,251.724 2086.29,251.724 \n",
       "  \"/>\n",
       "<g clip-path=\"url(#clip2201)\">\n",
       "<text style=\"fill:#000000; fill-opacity:1; font-family:Arial,Helvetica Neue,Helvetica,sans-serif; font-size:48px; text-anchor:start;\" transform=\"rotate(0, 2110.29, 269.224)\" x=\"2110.29\" y=\"269.224\">int_f</text>\n",
       "</g>\n",
       "</svg>\n"
      ]
     },
     "execution_count": 36,
     "metadata": {},
     "output_type": "execute_result"
    }
   ],
   "source": [
    "using Interpolations\n",
    "x = 0.0:0.2:1.0\n",
    "f(x) = x^2\n",
    "f_int = LinearInterpolation(x, f.(x))  # interpolates the coarse grid\n",
    "@show f_int(1.0)  # call like a function\n",
    "\n",
    "plotfunctions(f_int)  # same generic function"
   ]
  },
  {
   "cell_type": "markdown",
   "metadata": {},
   "source": [
    "Note that the same generic `plotfunctions` could use any variable passed to it that “looks” like a function, i.e., can call `f(x)`\n",
    "\n",
    "This approach to design with types – generic, but without any specific type declarations – is called [duck typing](https://en.wikipedia.org/wiki/Duck_typing)\n",
    "\n",
    "If you need to make an existing type callable, see [Function Like Objects](https://docs.julialang.org/en/v1/manual/methods/#Function-like-objects-1)"
   ]
  },
  {
   "cell_type": "markdown",
   "metadata": {},
   "source": [
    "## Limitations of Dispatching on Abstract Types\n",
    "\n",
    "You will notice that types in Julia represent a tree with `Any` at the root\n",
    "\n",
    "The tree structure has worked well for the above examples, but it doesn’t allow us to associate multiple categorizations of types\n",
    "\n",
    "For example, a semi-group type would be useful for a writing generic code (e.g.\n",
    "continuous-time solutions for ODEs and matrix-free methods), but cannot be\n",
    "implemented rigorously since the `Matrix` type is a semi-group as well\n",
    "as an `AbstractArray`, but not all semi-groups are `AbstractArray` s\n",
    "\n",
    "The main way to implement this in a generic language is with a design approach called “traits”\n",
    "\n",
    "- See the [original discussion](https://github.com/JuliaLang/julia/issues/2345#issuecomment-54537633) and an [example of a package to facilitate the pattern](https://github.com/mauro3/SimpleTraits.jl)  \n",
    "- A complete description of the traits pattern as the natural evolution of Multiple Dispatch is given in this [blog post](https://white.ucc.asn.au/2018/10/03/Dispatch,-Traits-and-Metaprogramming-Over-Reflection.html)  "
   ]
  }
 ],
 "metadata": {
  "download_nb": true,
  "download_nb_path": "https://lectures.quantecon.org/",
  "filename": "generic_programming.rst",
  "filename_with_path": "more_julia/generic_programming",
  "kernelspec": {
   "display_name": "Julia 1.1.0",
   "language": "julia",
   "name": "julia-1.1"
  },
  "language_info": {
   "file_extension": ".jl",
   "mimetype": "application/julia",
   "name": "julia",
   "version": "1.1.0"
  },
  "title": "Generic Programming"
 },
 "nbformat": 4,
 "nbformat_minor": 2
}

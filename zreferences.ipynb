version https://git-lfs.github.com/spec/v1
oid sha256:ef241e5904b19693bddfd107691048bd4d9a17388e88d466cc83d24553b27c50
size 24778

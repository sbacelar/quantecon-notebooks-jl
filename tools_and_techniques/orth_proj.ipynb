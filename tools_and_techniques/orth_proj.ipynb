version https://git-lfs.github.com/spec/v1
oid sha256:307e9cfd71a1df4e2a6dfb8db7a122415aa552ad8aa07f310d0be0c300dc8f16
size 33804

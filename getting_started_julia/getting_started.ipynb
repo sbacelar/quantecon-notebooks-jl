{
 "cells": [
  {
   "cell_type": "markdown",
   "metadata": {},
   "source": [
    "\n",
    "<a id='getting-started'></a>\n",
    "<div id=\"qe-notebook-header\" style=\"text-align:right;\">\n",
    "        <a href=\"https://quantecon.org/\" title=\"quantecon.org\">\n",
    "                <img style=\"width:250px;display:inline;\" src=\"https://assets.quantecon.org/img/qe-menubar-logo.svg\" alt=\"QuantEcon\">\n",
    "        </a>\n",
    "</div>"
   ]
  },
  {
   "cell_type": "markdown",
   "metadata": {},
   "source": [
    "# Setting up Your Julia Environment"
   ]
  },
  {
   "cell_type": "markdown",
   "metadata": {},
   "source": [
    "## Contents\n",
    "\n",
    "- [Setting up Your Julia Environment](#Setting-up-Your-Julia-Environment)  \n",
    "  - [Overview](#Overview)  \n",
    "  - [A Note on Jupyter](#A-Note-on-Jupyter)  \n",
    "  - [Desktop Installation of Julia and Jupyter](#Desktop-Installation-of-Julia-and-Jupyter)  \n",
    "  - [Using Julia on the Web](#Using-Julia-on-the-Web)  "
   ]
  },
  {
   "cell_type": "markdown",
   "metadata": {},
   "source": [
    "## Overview\n",
    "\n",
    "In this lecture we will cover how to get up and running with Julia\n",
    "\n",
    "There are a few different options for using Julia, including a [local desktop installation](#jl-jupyterlocal) and [Jupyter hosted on the web](#jl-jupyterhub)\n",
    "\n",
    "If you have access to a web-based Jupyter and Julia setup, it is typically the most straightforward way to get started"
   ]
  },
  {
   "cell_type": "markdown",
   "metadata": {},
   "source": [
    "## A Note on Jupyter\n",
    "\n",
    "Like Python and R, and unlike products such as Matlab and Stata, there is a looser connection between Julia as a programming language and Julia as a specific development environment\n",
    "\n",
    "While you will eventually use other editors, there are some advantages to starting with the [Jupyter](http://jupyter.org/) environment while learning Julia\n",
    "\n",
    "- The ability to mix formatted text (including mathematical expressions) and code in a single document  \n",
    "- Nicely formatted output including tables, figures, animation, video, etc.  \n",
    "- Conversion tools to generate PDF slides, static HTML, etc.  \n",
    "- [Online Jupyter](#jl-jupyterhub) may be available, and requires no installation  \n",
    "\n",
    "\n",
    "We’ll discuss the workflow on these features in the [next lecture](julia_environment.html)\n",
    "\n",
    "\n",
    "<a id='jl-jupyterlocal'></a>"
   ]
  },
  {
   "cell_type": "markdown",
   "metadata": {},
   "source": [
    "## Desktop Installation of Julia and Jupyter\n",
    "\n",
    "If you want to install these tools locally on your machine\n",
    "\n",
    "- Install Anaconda Python by downloading the binary <https://www.anaconda.com/download/>  \n",
    "  \n",
    "  - Make sure you click yes to “add Anaconda to my PATH”  \n",
    "  \n",
    "- Download and install Julia, from [download page](http://julialang.org/downloads/) , accepting all default options  \n",
    "  \n",
    "  - We do **not** recommend [JuliaPro](https://juliacomputing.com/products/juliapro.html)\n",
    "    due to its limited number of available packages  \n",
    "  \n",
    "\n",
    "\n",
    "\n",
    "<a id='intro-repl'></a>\n",
    "- Open Julia, by either  \n",
    "  \n",
    "  1. Navigating to Julia through your menus or desktop icons (Windows, Mac), or  \n",
    "  1. Opening a terminal and typing `julia` (Linux)  \n",
    "  \n",
    "\n",
    "\n",
    "You should now be looking at something like this\n",
    "\n",
    "<img src=\"https://s3-ap-southeast-2.amazonaws.com/lectures.quantecon.org/jl/_static/figures/julia_term_1.png\" style=\"width:100%;height:100%\">\n",
    "\n",
    "  \n",
    "This is called the JULIA *REPL* (Read-Evaluate-Print-Loop), which we discuss more [later](more_julia/tools_editors.html#repl-main)\n",
    "\n",
    "- In the Julia REPL, hit `]` to enter package mode and then enter  "
   ]
  },
  {
   "cell_type": "markdown",
   "metadata": {
    "hide-output": false
   },
   "source": [
    "```julia\n",
    "add IJulia InstantiateFromURL\n",
    "```\n"
   ]
  },
  {
   "cell_type": "markdown",
   "metadata": {},
   "source": [
    "This adds packages for\n",
    "\n",
    "- The  `IJulia` kernel which links Julia to Jupyter (i.e., allows your browser to run Julia code, manage Julia packages, etc.)  \n",
    "- The `InstantiateFromURL` which is a tool written by the QE team to manage package dependencies for the lectures  \n",
    "\n",
    "\n",
    "\n",
    "<a id='package-setup'></a>"
   ]
  },
  {
   "cell_type": "markdown",
   "metadata": {},
   "source": [
    "### Installing QuantEcon Packages\n",
    "\n",
    "The next step in the installation process is to download and install all of the packages used by the QuantEcon lecture notes\n",
    "\n",
    "- Next, in the main REPL (that is, hit backspace from the blue package mode) run  "
   ]
  },
  {
   "cell_type": "markdown",
   "metadata": {
    "hide-output": false
   },
   "source": [
    "```julia\n",
    "using InstantiateFromURL\n",
    "```\n"
   ]
  },
  {
   "cell_type": "markdown",
   "metadata": {},
   "source": [
    "This will load the functions defined in the `InstantiateFromURL` package\n",
    "\n",
    "- Next, run the following (which may take 15-20 minutes depending on your internet connection and computer)  "
   ]
  },
  {
   "cell_type": "markdown",
   "metadata": {
    "hide-output": false
   },
   "source": [
    "```julia\n",
    "activate_github(\"QuantEcon/QuantEconLectureAllPackages\", tag = \"v0.9.8\", add_default_environment = true)\n",
    "```\n"
   ]
  },
  {
   "cell_type": "markdown",
   "metadata": {},
   "source": [
    "This function will:\n",
    "\n",
    "1. Download two files, `Project.toml` and `Manifest.toml`, containing a list of the latest versions of the packages used in the the lecture notes  \n",
    "1. Install those packages to your machine  \n",
    "1. Add them to default Julia environment, so you can access the packages outside of QuantEcon lectures  \n",
    "\n",
    "\n",
    "**Note:** The number associated with the `tag` in the `activate_github` call is a snapshot of package versions used by the QuantEcon lectures at a particular point in time\n",
    "\n",
    "We will cover “environments” more in depth [later](more_julia/tools_editors.html#jl-packages)\n",
    "\n",
    "\n",
    "<a id='clone-lectures'></a>"
   ]
  },
  {
   "cell_type": "markdown",
   "metadata": {},
   "source": [
    "### Starting Jupyter\n",
    "\n",
    "Next, let’s install the QuantEcon lecture notes to our machine and run them (for more details on the tools we’ll use, see our lecture on [version control](more_julia/version_control.html))\n",
    "\n",
    "1. Install [git](https://git-scm.com/book/en/v2/Getting-Started-Installing-Git/)  \n",
    "1. (**Optional, but strongly recommended**) Install the [GitHub Desktop](https://desktop.github.com/)  "
   ]
  },
  {
   "cell_type": "markdown",
   "metadata": {},
   "source": [
    "#### GitHub Desktop Approach\n",
    "\n",
    "**Note**: This workflow requires Git LFS (Large File Storage)\n",
    "\n",
    "If you have not previously used Git LFS, choose to “Initialize Git LFS” at the dialog which appears while following these instructions\n",
    "\n",
    "After installing the Git Desktop application, click [this link](x-github-client://openRepo/https://github.com/QuantEcon/quantecon-notebooks-jl) on your desktop computer to automatically install the notebooks\n",
    "\n",
    "It should open a window in the GitHub desktop app like this\n",
    "\n",
    "<img src=\"https://s3-ap-southeast-2.amazonaws.com/lectures.quantecon.org/jl/_static/figures/git-desktop-intro.png\" style=\"width:100%;height:100%\">\n",
    "\n",
    "  \n",
    "Choose a path you like and clone the repo\n",
    "\n",
    "At this point, you should see the Git LFS dialog:\n",
    "\n",
    "<img src=\"https://s3-ap-southeast-2.amazonaws.com/lectures.quantecon.org/jl/_static/figures/git-lfs-dialog.png\" style=\"width:100%;height:100%\">\n",
    "\n",
    "  \n",
    "Hit accept\n",
    "\n",
    "At the top, under the “Repository” dropdown, click “Open in Terminal” (Mac, Linux) or “Open in Command Prompt” (Windows)\n",
    "\n",
    "**Note**: On Windows, you may need to click the “open without git” button that comes up\n",
    "\n",
    "In the resulting terminal session, run"
   ]
  },
  {
   "cell_type": "markdown",
   "metadata": {
    "hide-output": false
   },
   "source": [
    "```text\n",
    "jupyter lab\n",
    "```\n"
   ]
  },
  {
   "cell_type": "markdown",
   "metadata": {},
   "source": [
    "You can open the [Interacting with Julia](julia_environment.html) notebook to explore this interface and start writing code"
   ]
  },
  {
   "cell_type": "markdown",
   "metadata": {},
   "source": [
    "#### Git Command Line Approach\n",
    "\n",
    "If you do not wish to install the GitHub Desktop, you can get the notebooks using the Git command-line tool\n",
    "\n",
    "First, run the following to install Git LFS (Linux/OSX)"
   ]
  },
  {
   "cell_type": "markdown",
   "metadata": {
    "hide-output": false
   },
   "source": [
    "```text\n",
    "curl -s https://packagecloud.io/install/repositories/github/git-lfs/script.deb.sh | sudo bash\n",
    "sudo apt-get install git-lfs\n",
    "git lfs install\n",
    "```\n"
   ]
  },
  {
   "cell_type": "markdown",
   "metadata": {},
   "source": [
    "As output from the last command, you should see `Git LFS initialized.`\n",
    "\n",
    "Open a new terminal session and run"
   ]
  },
  {
   "cell_type": "markdown",
   "metadata": {
    "hide-output": false
   },
   "source": [
    "```text\n",
    "git clone https://github.com/quantecon/quantecon-notebooks-jl\n",
    "```\n"
   ]
  },
  {
   "cell_type": "markdown",
   "metadata": {},
   "source": [
    "This will download the repository with the notebooks in the working directory\n",
    "\n",
    "Then, `cd` to that location in your Mac, Linux, or Windows PowerShell terminal"
   ]
  },
  {
   "cell_type": "markdown",
   "metadata": {
    "hide-output": false
   },
   "source": [
    "```text\n",
    "cd quantecon-notebooks-jl\n",
    "```\n"
   ]
  },
  {
   "cell_type": "markdown",
   "metadata": {},
   "source": [
    "Then, run"
   ]
  },
  {
   "cell_type": "markdown",
   "metadata": {
    "hide-output": false
   },
   "source": [
    "```text\n",
    "jupyter lab\n",
    "```\n"
   ]
  },
  {
   "cell_type": "markdown",
   "metadata": {},
   "source": [
    "And open the [Interacting With Julia](julia_environment.html) lecture (the file `julia_environment.ipynb` in the list of notebooks in JupyterLab) to continue"
   ]
  },
  {
   "cell_type": "markdown",
   "metadata": {},
   "source": [
    "## Using Julia on the Web\n",
    "\n",
    "If you have access to an online Julia installation, it is the easiest way to get started\n",
    "\n",
    "Eventually, you will want to do a [local installation](#jl-jupyterlocal) in order to use other\n",
    "[tools and editors](more_julia/tools_editors.html) such as [Atom/Juno](http://junolab.org/), but\n",
    "don’t let the environment get in the way of learning the language\n",
    "\n",
    "\n",
    "<a id='jl-jupyterhub'></a>"
   ]
  },
  {
   "cell_type": "markdown",
   "metadata": {},
   "source": [
    "### Using Julia with JupyterHub\n",
    "\n",
    "If you have access to a web-based solution for Jupyter, then that is typically a straightforward option\n",
    "\n",
    "- Students: ask your department if these resources are available  \n",
    "- Universities and workgroups: email [contact@quantecon.org](mailto:contact@quantecon.org\") for\n",
    "  help on setting up a shared JupyterHub instance with precompiled packages ready for these lecture notes  \n",
    "- [JuliaBox](http://www.juliabox.com)  tightly controls allowed packages, and **does not** currently support the QuantEcon lectures  "
   ]
  },
  {
   "cell_type": "markdown",
   "metadata": {},
   "source": [
    "#### Obtaining Notebooks\n",
    "\n",
    "Your first step is to get a copy of the notebooks in your JupyterHub environment\n",
    "\n",
    "While you can individually download the notebooks from the website, the easiest way to access the notebooks is usually to clone the repository with Git into your JupyterHub environment\n",
    "\n",
    "JupyterHub installations have different methods for cloning repositories, with which you can use the url for the notebooks repository: `https://github.com/QuantEcon/quantecon-notebooks-jl`"
   ]
  },
  {
   "cell_type": "markdown",
   "metadata": {},
   "source": [
    "#### Installing Packages\n",
    "\n",
    "After you have some of the notebooks available, as in [above](#package-setup), these lectures depend on functionality (like packages for plotting, benchmarking, and statistics) that are not installed with every Jupyter installation on the web\n",
    "\n",
    "If your online Jupyter does not come with QuantEcon packages pre-installed, you can install the `InstantiateFromURL` package, which is a tool written by the QE team to manage package dependencies for the lectures\n",
    "\n",
    "To add this package, in an online Jupyter notebook run (typically with `<Shift-Enter>`)"
   ]
  },
  {
   "cell_type": "code",
   "execution_count": 1,
   "metadata": {
    "hide-output": true
   },
   "outputs": [],
   "source": [
    "] add InstantiateFromURL"
   ]
  },
  {
   "cell_type": "markdown",
   "metadata": {},
   "source": [
    "If your online Jupyter environment does not have the packages pre-installed, it may take 15-20 minutes for your first QuantEcon notebook to run\n",
    "\n",
    "After this step, open the downloaded [Interacting with Julia](julia_environment.html) notebook to begin writing code\n",
    "\n",
    "If the QuantEcon notebooks do not work after this installation step, you may need to speak to the JupyterHub administrator"
   ]
  }
 ],
 "metadata": {
  "download_nb": true,
  "download_nb_path": "https://lectures.quantecon.org/",
  "filename": "getting_started.rst",
  "filename_with_path": "getting_started_julia/getting_started",
  "kernelspec": {
   "display_name": "Julia 1.1.0",
   "language": "julia",
   "name": "julia-1.1"
  },
  "language_info": {
   "file_extension": ".jl",
   "mimetype": "application/julia",
   "name": "julia",
   "version": "1.1.0"
  },
  "title": "Setting up Your Julia Environment"
 },
 "nbformat": 4,
 "nbformat_minor": 2
}

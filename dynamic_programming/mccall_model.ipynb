{
 "cells": [
  {
   "cell_type": "markdown",
   "metadata": {},
   "source": [
    "\n",
    "<a id='mccall'></a>\n",
    "<div id=\"qe-notebook-header\" style=\"text-align:right;\">\n",
    "        <a href=\"https://quantecon.org/\" title=\"quantecon.org\">\n",
    "                <img style=\"width:250px;display:inline;\" src=\"https://assets.quantecon.org/img/qe-menubar-logo.svg\" alt=\"QuantEcon\">\n",
    "        </a>\n",
    "</div>"
   ]
  },
  {
   "cell_type": "markdown",
   "metadata": {},
   "source": [
    "# Job Search I: The McCall Search Model"
   ]
  },
  {
   "cell_type": "markdown",
   "metadata": {},
   "source": [
    "## Contents\n",
    "\n",
    "- [Job Search I: The McCall Search Model](#Job-Search-I:-The-McCall-Search-Model)  \n",
    "  - [Overview](#Overview)  \n",
    "  - [The McCall Model](#The-McCall-Model)  \n",
    "  - [Computing the Optimal Policy: Take 1](#Computing-the-Optimal-Policy:-Take-1)  \n",
    "  - [Computing the Optimal Policy: Take 2](#Computing-the-Optimal-Policy:-Take-2)  \n",
    "  - [Exercises](#Exercises)  \n",
    "  - [Solutions](#Solutions)  "
   ]
  },
  {
   "cell_type": "markdown",
   "metadata": {},
   "source": [
    "> “Questioning a McCall worker is like having a conversation with an out-of-work friend:\n",
    "> ‘Maybe you are setting your sights too high’, or ‘Why did you quit your old job before you\n",
    "> had a new one lined up?’ This is real social science: an attempt to model, to understand,\n",
    "> human behavior by visualizing the situation people find themselves in, the options they face\n",
    "> and the pros and cons as they themselves see them.” – Robert E. Lucas, Jr."
   ]
  },
  {
   "cell_type": "markdown",
   "metadata": {},
   "source": [
    "## Overview\n",
    "\n",
    "The McCall search model [[McC70]](zreferences.html#mccall1970) helped transform economists’ way of thinking about labor markets\n",
    "\n",
    "To clarify vague notions such as “involuntary” unemployment, McCall modeled the decision problem of unemployed agents directly, in terms of factors such as\n",
    "\n",
    "- current and likely future wages  \n",
    "- impatience  \n",
    "- unemployment compensation  \n",
    "\n",
    "\n",
    "To solve the decision problem he used dynamic programming\n",
    "\n",
    "Here we set up McCall’s model and adopt the same solution method\n",
    "\n",
    "As we’ll see, McCall’s model is not only interesting in its own right but also an excellent vehicle for learning dynamic programming"
   ]
  },
  {
   "cell_type": "markdown",
   "metadata": {},
   "source": [
    "## The McCall Model\n",
    "\n",
    "\n",
    "<a id='index-0'></a>\n",
    "An unemployed worker receives in each period a job offer at wage $ W_t $\n",
    "\n",
    "At time $ t $, our worker has two choices:\n",
    "\n",
    "1. Accept the offer and work permanently at constant wage $ W_t $  \n",
    "1. Reject the offer, receive unemployment compensation $ c $, and reconsider next period  \n",
    "\n",
    "\n",
    "The wage sequence $ \\{W_t\\} $ is assumed to be iid with probability mass function $ p_1, \\ldots, p_n $\n",
    "\n",
    "Here $ p_i $ is the probability of observing wage offer $ W_t = w_i $ in the set $ w_1, \\ldots, w_n $\n",
    "\n",
    "The worker is infinitely lived and aims to maximize the expected discounted sum of earnings\n",
    "\n",
    "$$\n",
    "\\mathbb{E} \\sum_{t=0}^{\\infty} \\beta^t Y_t\n",
    "$$\n",
    "\n",
    "The constant $ \\beta $ lies in $ (0, 1) $ and is called a **discount factor**\n",
    "\n",
    "The smaller is $ \\beta $, the more the worker discounts future utility relative to current utility\n",
    "\n",
    "The variable  $ Y_t $ is income, equal to\n",
    "\n",
    "- his wage $ W_t $ when employed  \n",
    "- unemployment compensation $ c $ when unemployed  "
   ]
  },
  {
   "cell_type": "markdown",
   "metadata": {},
   "source": [
    "### A Trade Off\n",
    "\n",
    "The worker faces a trade-off:\n",
    "\n",
    "- Waiting too long for a good offer is costly, since the future is discounted  \n",
    "- Accepting too early is costly, since better offers might arrive in the future  \n",
    "\n",
    "\n",
    "To decide optimally in the face of this trade off, we use dynamic programming\n",
    "\n",
    "Dynamic programming can be thought of as a two step procedure that\n",
    "\n",
    "1. first assigns values to “states” and  \n",
    "1. then deduces optimal actions given those values  \n",
    "\n",
    "\n",
    "We’ll go through these steps in turn"
   ]
  },
  {
   "cell_type": "markdown",
   "metadata": {},
   "source": [
    "### The Value Function\n",
    "\n",
    "In order to optimally trade off current and future rewards, we need to think about two things:\n",
    "\n",
    "1. the current payoffs we get from different choices  \n",
    "1. the different states that those choices will lead to next period (in this case, either employment or unemployment)  \n",
    "\n",
    "\n",
    "To weigh these two aspects of the decision problem, we need to assign *values* to states\n",
    "\n",
    "To this end, let $ V(w) $ be the total lifetime *value* accruing to an unemployed worker who enters the current period unemployed but with wage offer $ w $ in hand\n",
    "\n",
    "More precisely, $ V(w) $ denotes the value of the objective function [(1)](mccall_model_with_separation.html#equation-objective) when an agent in this situation makes *optimal* decisions now and at all future points in time\n",
    "\n",
    "Of course $ V(w) $ is not trivial to calculate because we don’t yet know what decisions are optimal and what aren’t!\n",
    "\n",
    "But think of $ V $ as a function that assigns to each possible wage $ w $ the maximal lifetime value that can be obtained with that offer in hand\n",
    "\n",
    "A crucial observation is that this function $ V $ must satisfy the recursion\n",
    "\n",
    "\n",
    "<a id='equation-odu-pv'></a>\n",
    "$$\n",
    "V(w)\n",
    "= \\max \\left\\{\n",
    "        \\frac{w}{1 - \\beta}, \\, c + \\beta \\sum_{i=1}^n V(w_i) p_i\n",
    "    \\right\\} \\tag{1}\n",
    "$$\n",
    "\n",
    "for every possible $ w_i $  in $ w_1, \\ldots, w_n $\n",
    "\n",
    "This important equation is a version of the **Bellman equation**, which is\n",
    "ubiquitous in economic dynamics and other fields involving planning over time\n",
    "\n",
    "The intuition behind it is as follows:\n",
    "\n",
    "- the first term inside the max operation is the lifetime payoff from accepting current offer $ w $, since  \n",
    "\n",
    "\n",
    "$$\n",
    "w + \\beta w + \\beta^2 w + \\cdots = \\frac{w}{1 - \\beta}\n",
    "$$\n",
    "\n",
    "- the second term inside the max operation is the **continuation value**, which is the lifetime payoff from rejecting the current offer and then behaving optimally in all subsequent periods  \n",
    "\n",
    "\n",
    "If we optimize and pick the best of these two options, we obtain maximal lifetime value from today, given current offer $ w $\n",
    "\n",
    "But this is precisely $ V(w) $, which is the l.h.s. of [(1)](#equation-odu-pv)"
   ]
  },
  {
   "cell_type": "markdown",
   "metadata": {},
   "source": [
    "### The Optimal Policy\n",
    "\n",
    "Suppose for now that we are able to solve [(1)](#equation-odu-pv) for the unknown\n",
    "function $ V $\n",
    "\n",
    "Once we have this function in hand we can behave optimally (i.e., make the\n",
    "right choice between accept and reject)\n",
    "\n",
    "All we have to do is select the maximal choice on the r.h.s. of [(1)](#equation-odu-pv)\n",
    "\n",
    "The optimal action is best thought of as a **policy**, which is, in general, a map from\n",
    "states to actions\n",
    "\n",
    "In our case, the state is the current wage offer $ w $\n",
    "\n",
    "Given *any* $ w $, we can read off the corresponding best choice (accept or\n",
    "reject) by picking the max on the r.h.s. of [(1)](#equation-odu-pv)\n",
    "\n",
    "Thus, we have a map from $ \\mathbb{R} $ to $ \\{0, 1\\} $, with 1 meaning accept and zero meaning reject\n",
    "\n",
    "We can write the policy as follows\n",
    "\n",
    "$$\n",
    "\\sigma(w) := \\mathbf{1}\n",
    "    \\left\\{\n",
    "        \\frac{w}{1 - \\beta} \\geq c + \\beta \\sum_{i=1}^n V(w_i) p_i\n",
    "    \\right\\}\n",
    "$$\n",
    "\n",
    "Here $ \\mathbf{1}\\{ P \\} = 1 $ if statement $ P $ is true and equals zero otherwise\n",
    "\n",
    "We can also write this as\n",
    "\n",
    "$$\n",
    "\\sigma(w) := \\mathbf{1} \\{ w \\geq \\bar w \\}\n",
    "$$\n",
    "\n",
    "where\n",
    "\n",
    "\n",
    "<a id='equation-odu-barw'></a>\n",
    "$$\n",
    "\\bar w := (1 - \\beta) \\left\\{ c + \\beta \\sum_{i=1}^n V(w_i) p_i \\right\\} \\tag{2}\n",
    "$$\n",
    "\n",
    "Here $ \\bar w $ is a constant depending on $ \\beta, c $ and the wage distribution, called the *reservation wage*\n",
    "\n",
    "The agent should accept if and only if the current wage offer exceeds the reservation wage\n",
    "\n",
    "Clearly, we can compute this reservation wage if we can compute the value function"
   ]
  },
  {
   "cell_type": "markdown",
   "metadata": {},
   "source": [
    "## Computing the Optimal Policy: Take 1\n",
    "\n",
    "To put the above ideas into action, we need to compute the value function at\n",
    "points $ w_1, \\ldots, w_n $\n",
    "\n",
    "In doing so, we can identify these values with the vector $ v = (v_i) $ where $ v_i := V(w_i) $\n",
    "\n",
    "In view of [(1)](#equation-odu-pv), this vector satisfies the nonlinear system of equations\n",
    "\n",
    "\n",
    "<a id='equation-odu-pv2'></a>\n",
    "$$\n",
    "v_i\n",
    "= \\max \\left\\{\n",
    "        \\frac{w_i}{1 - \\beta}, \\, c + \\beta \\sum_{i=1}^n v_i p_i\n",
    "    \\right\\}\n",
    "\\quad\n",
    "\\text{for } i = 1, \\ldots, n \\tag{3}\n",
    "$$\n",
    "\n",
    "It turns out that there is exactly one vector $ v := (v_i)_{i=1}^n $ in\n",
    "$ \\mathbb R^n $ that satisfies this equation"
   ]
  },
  {
   "cell_type": "markdown",
   "metadata": {},
   "source": [
    "### The Algorithm\n",
    "\n",
    "To compute this vector, we proceed as follows:\n",
    "\n",
    "Step 1: pick an arbitrary initial guess $ v \\in \\mathbb R^n $\n",
    "\n",
    "Step 2: compute a new vector $ v' \\in \\mathbb R^n $ via\n",
    "\n",
    "\n",
    "<a id='equation-odu-pv2p'></a>\n",
    "$$\n",
    "v'_i\n",
    "= \\max \\left\\{\n",
    "        \\frac{w_i}{1 - \\beta}, \\, c + \\beta \\sum_{i=1}^n v_i p_i\n",
    "    \\right\\}\n",
    "\\quad\n",
    "\\text{for } i = 1, \\ldots, n \\tag{4}\n",
    "$$\n",
    "\n",
    "Step 3: calculate a measure of the deviation between $ v $ and $ v' $, such as $ \\max_i |v_i - v_i'| $\n",
    "\n",
    "Step 4: if the deviation is larger than some fixed tolerance, set $ v = v' $ and go to step 2, else continue\n",
    "\n",
    "Step 5: return $ v $\n",
    "\n",
    "This algorithm returns an arbitrarily good approximation to the true solution\n",
    "to [(3)](#equation-odu-pv2), which represents the value function\n",
    "\n",
    "(Arbitrarily good means here that the approximation converges to the true\n",
    "solution as the tolerance goes to zero)"
   ]
  },
  {
   "cell_type": "markdown",
   "metadata": {},
   "source": [
    "### The Fixed Point Theory\n",
    "\n",
    "What’s the math behind these ideas?\n",
    "\n",
    "First, one defines a mapping $ T $ from $ \\mathbb R^n $ to\n",
    "itself via\n",
    "\n",
    "\n",
    "<a id='equation-odu-pv3'></a>\n",
    "$$\n",
    "Tv_i\n",
    "= \\max \\left\\{\n",
    "        \\frac{w_i}{1 - \\beta}, \\, c + \\beta \\sum_{i=1}^n v_i p_i\n",
    "    \\right\\}\n",
    "\\quad\n",
    "\\text{for } i = 1, \\ldots, n \\tag{5}\n",
    "$$\n",
    "\n",
    "(A new vector $ Tv $ is obtained from given vector $ v $ by evaluating\n",
    "the r.h.s. at each $ i $)\n",
    "\n",
    "One can show that the conditions of the Banach contraction mapping theorem are\n",
    "satisfied by $ T $ as a self-mapping on $ \\mathbb{R}^n $\n",
    "\n",
    "One implication is that $ T $ has a unique fixed point in $ \\mathbb R^n $\n",
    "\n",
    "Moreover, it’s immediate from the definition of $ T $ that this fixed\n",
    "point is precisely the value function\n",
    "\n",
    "The iterative algorithm presented above corresponds to iterating with\n",
    "$ T $ from some initial guess $ v $\n",
    "\n",
    "The Banach contraction mapping theorem tells us that this iterative process\n",
    "generates a sequence that converges to the fixed point"
   ]
  },
  {
   "cell_type": "markdown",
   "metadata": {},
   "source": [
    "### Implementation"
   ]
  },
  {
   "cell_type": "markdown",
   "metadata": {},
   "source": [
    "### Setup"
   ]
  },
  {
   "cell_type": "code",
   "execution_count": 1,
   "metadata": {
    "hide-output": false
   },
   "outputs": [],
   "source": [
    "using InstantiateFromURL\n",
    "activate_github(\"QuantEcon/QuantEconLecturePackages\", tag = \"v0.9.8\");"
   ]
  },
  {
   "cell_type": "code",
   "execution_count": 2,
   "metadata": {
    "hide-output": true
   },
   "outputs": [],
   "source": [
    "using LinearAlgebra, Statistics, Compat\n",
    "using Distributions, Expectations, NLsolve, Roots, Random, Plots, Parameters"
   ]
  },
  {
   "cell_type": "code",
   "execution_count": 3,
   "metadata": {
    "hide-output": false
   },
   "outputs": [],
   "source": [
    "gr(fmt = :png);;"
   ]
  },
  {
   "cell_type": "markdown",
   "metadata": {},
   "source": [
    "Here’s the distribution of wage offers we’ll work with"
   ]
  },
  {
   "cell_type": "code",
   "execution_count": 4,
   "metadata": {
    "hide-output": false
   },
   "outputs": [
    {
     "name": "stdout",
     "output_type": "stream",
     "text": [
      "support(dist) = 0:50\n"
     ]
    },
    {
     "name": "stderr",
     "output_type": "stream",
     "text": [
      "┌ Info: Recompiling stale cache file /opt/julia/compiled/v1.1/StatsPlots/SiylL.ji for StatsPlots [f3b207a7-027a-5e70-b257-86293d7955fd]\n",
      "└ @ Base loading.jl:1184\n"
     ]
    },
    {
     "data": {
      "image/png": "[encoded data removed]"
     },
     "execution_count": 4,
     "metadata": {},
     "output_type": "execute_result"
    }
   ],
   "source": [
    "n = 50\n",
    "dist = BetaBinomial(n, 200, 100) # probability distribution\n",
    "@show support(dist)\n",
    "w = range(10.0, 60.0, length = n+1) # linearly space wages\n",
    "\n",
    "using StatsPlots\n",
    "plt = plot(w, dist, xlabel = \"wages\", ylabel = \"probabilities\", legend = false)"
   ]
  },
  {
   "cell_type": "markdown",
   "metadata": {},
   "source": [
    "We can explore taking expectations over this distribution"
   ]
  },
  {
   "cell_type": "code",
   "execution_count": 5,
   "metadata": {
    "hide-output": false
   },
   "outputs": [
    {
     "name": "stdout",
     "output_type": "stream",
     "text": [
      "(E_w, E_w_2) = (43.333333333335695, 12.919896640724573)\n",
      "E * w = "
     ]
    },
    {
     "name": "stdout",
     "output_type": "stream",
     "text": [
      "43.3333333333357\n"
     ]
    },
    {
     "name": "stdout",
     "output_type": "stream",
     "text": [
      "dot(pdf.(dist, support(dist)), w) = 43.3333333333357\n"
     ]
    }
   ],
   "source": [
    "E = expectation(dist) # expectation operator\n",
    "\n",
    "# exploring the properties of the operator\n",
    "wage(i) = w[i+1] # +1 to map from support of 0\n",
    "E_w = E(wage)\n",
    "E_w_2 = E(i -> wage(i)^2) - E_w^2 # variance\n",
    "@show E_w, E_w_2\n",
    "\n",
    "# use operator with left-multiply\n",
    "@show E * w # the `w` are values assigned for the discrete states\n",
    "@show dot(pdf.(dist, support(dist)), w); # identical calculation"
   ]
  },
  {
   "cell_type": "markdown",
   "metadata": {},
   "source": [
    "To implement our algorithm, let’s have a look at the sequence of approximate value functions that\n",
    "this fixed point algorithm generates\n",
    "\n",
    "Default parameter values are embedded in the function\n",
    "\n",
    "Our initial guess $ v $ is the value of accepting at every given wage"
   ]
  },
  {
   "cell_type": "code",
   "execution_count": 6,
   "metadata": {
    "hide-output": false
   },
   "outputs": [
    {
     "data": {
      "image/png": "[encoded data removed]"
     },
     "execution_count": 6,
     "metadata": {},
     "output_type": "execute_result"
    }
   ],
   "source": [
    "# parameters and constant objects\n",
    "\n",
    "c = 25\n",
    "β = 0.99\n",
    "num_plots = 6\n",
    "\n",
    "# Operator\n",
    "T(v) = max.(w/(1 - β), c + β * E*v) # (5) broadcasts over the w, fixes the v\n",
    "# alternatively, T(v) = [max(wval/(1 - β), c + β * E*v) for wval in w]\n",
    "\n",
    "# fill in  matrix of vs\n",
    "vs = zeros(n + 1, 6) # data to fill\n",
    "vs[:, 1] .= w / (1-β) # initial guess of \"accept all\"\n",
    "\n",
    "# manually applying operator\n",
    "for col in 2:num_plots\n",
    "    v_last = vs[:, col - 1]\n",
    "    vs[:, col] .= T(v_last)  # apply operator\n",
    "end\n",
    "plot(vs)"
   ]
  },
  {
   "cell_type": "markdown",
   "metadata": {},
   "source": [
    "One approach to solving the model is to directly implement this sort of iteration, and continues until measured deviation\n",
    "between successive iterates is below tol"
   ]
  },
  {
   "cell_type": "code",
   "execution_count": 7,
   "metadata": {
    "hide-output": false
   },
   "outputs": [
    {
     "data": {
      "text/plain": [
       "compute_reservation_wage_direct (generic function with 1 method)"
      ]
     },
     "execution_count": 7,
     "metadata": {},
     "output_type": "execute_result"
    }
   ],
   "source": [
    "function compute_reservation_wage_direct(params; v_iv = collect(w ./(1-β)), max_iter = 500,\n",
    "                                         tol = 1e-6)\n",
    "    @unpack c, β, w = params\n",
    "\n",
    "    # create a closure for the T operator\n",
    "    T(v) = max.(w/(1 - β), c + β * E*v) # (5) fixing the parameter values\n",
    "\n",
    "    v = copy(v_iv) # start at initial value.  copy to prevent v_iv modification\n",
    "    v_next = similar(v)\n",
    "    i = 0\n",
    "    error = Inf\n",
    "    while i < max_iter && error > tol\n",
    "        v_next .= T(v) # (4)\n",
    "        error = norm(v_next - v)\n",
    "        i += 1\n",
    "        v .= v_next  # copy contents into v.  Also could have used v[:] = v_next\n",
    "    end\n",
    "    # now compute the reservation wage\n",
    "    return (1 - β) * (c + β * E*v) # (2)\n",
    "end"
   ]
  },
  {
   "cell_type": "markdown",
   "metadata": {},
   "source": [
    "In the above, we use `v = copy(v_iv)` rather than just `v_iv = v`\n",
    "\n",
    "To understand why, first recall that `v_iv` is a function argument – either defaulting to the given value, or passed into the function\n",
    "\n",
    "> - If we had gone `v = v_iv` instead, then it would have simply created a new name `v` which binds to whatever is located at `v_iv`  \n",
    "- Since we later use `v .= v_next` later in the algorithm, the values in it would be modified  \n",
    "- Hence, we would be modifying the `v_iv` vector we were passed in, which may not be what the caller of the function wanted  \n",
    "- The big issue this creates are “side-effects” where you can call a function and strange things can happen outside of the function that you didn’t expect  \n",
    "- If you intended for the modification to potentially occur, then the Julia style guide says that we should call the function `compute_reservation_wage_direct!` to make the possible side-effects clear  \n",
    "\n",
    "\n",
    "\n",
    "As usual, we are better off using a package, which may give a better algorithm and is likely to less error prone\n",
    "\n",
    "In this case, we can use the `fixedpoint` algorithm discussed in [our Julia by Example lecture](getting_started_julia/julia_by_example.html)  to find the fixed point of the $ T $ operator"
   ]
  },
  {
   "cell_type": "code",
   "execution_count": 8,
   "metadata": {
    "hide-output": false
   },
   "outputs": [
    {
     "data": {
      "text/plain": [
       "compute_reservation_wage (generic function with 1 method)"
      ]
     },
     "execution_count": 8,
     "metadata": {},
     "output_type": "execute_result"
    }
   ],
   "source": [
    "function compute_reservation_wage(params; v_iv = collect(w ./(1-β)), iterations = 500,\n",
    "                                  ftol = 1e-6, m = 6)\n",
    "    @unpack c, β, w = params\n",
    "    T(v) = max.(w/(1 - β), c + β * E*v) # (5) fixing the parameter values\n",
    "\n",
    "    v_star = fixedpoint(T, v_iv, iterations = iterations, ftol = ftol,\n",
    "                        m = 6).zero # (5)\n",
    "    return (1 - β) * (c + β * E*v_star) # (3)\n",
    "end"
   ]
  },
  {
   "cell_type": "markdown",
   "metadata": {},
   "source": [
    "Let’s compute the reservation wage at the default parameters"
   ]
  },
  {
   "cell_type": "code",
   "execution_count": 9,
   "metadata": {
    "hide-output": false
   },
   "outputs": [
    {
     "data": {
      "text/plain": [
       "47.316499766546215"
      ]
     },
     "execution_count": 9,
     "metadata": {},
     "output_type": "execute_result"
    }
   ],
   "source": [
    "mcm = @with_kw (c=25.0, β=0.99, w=w) # named tuples\n",
    "\n",
    "compute_reservation_wage(mcm()) # call with default parameters"
   ]
  },
  {
   "cell_type": "markdown",
   "metadata": {},
   "source": [
    "### Comparative Statics\n",
    "\n",
    "Now we know how to compute the reservation wage, let’s see how it varies with\n",
    "parameters\n",
    "\n",
    "In particular, let’s look at what happens when we change $ \\beta $ and\n",
    "$ c $"
   ]
  },
  {
   "cell_type": "code",
   "execution_count": 10,
   "metadata": {
    "hide-output": false
   },
   "outputs": [],
   "source": [
    "grid_size = 25\n",
    "R = rand(grid_size, grid_size)\n",
    "\n",
    "c_vals = range(10.0, 30.0, length = grid_size)\n",
    "β_vals = range(0.9, 0.99, length = grid_size)\n",
    "\n",
    "for (i, c) in enumerate(c_vals)\n",
    "    for (j, β) in enumerate(β_vals)\n",
    "        R[i, j] = compute_reservation_wage(mcm(c=c, β=β)) # change from defaults\n",
    "    end\n",
    "end"
   ]
  },
  {
   "cell_type": "code",
   "execution_count": 11,
   "metadata": {
    "hide-output": false
   },
   "outputs": [
    {
     "data": {
      "image/png": "[encoded data removed]"
     },
     "execution_count": 11,
     "metadata": {},
     "output_type": "execute_result"
    }
   ],
   "source": [
    "contour(c_vals, β_vals, R',\n",
    "        title = \"Reservation Wage\",\n",
    "        xlabel = \"c\",\n",
    "        ylabel = \"beta\",\n",
    "        fill = true)"
   ]
  },
  {
   "cell_type": "markdown",
   "metadata": {},
   "source": [
    "As expected, the reservation wage increases both with patience and with\n",
    "unemployment compensation"
   ]
  },
  {
   "cell_type": "markdown",
   "metadata": {},
   "source": [
    "## Computing the Optimal Policy: Take 2\n",
    "\n",
    "The approach to dynamic programming just described is very standard and\n",
    "broadly applicable\n",
    "\n",
    "For this particular problem, there’s also an easier way, which circumvents the\n",
    "need to compute the value function\n",
    "\n",
    "Let $ \\psi $ denote the value of not accepting a job in this period but\n",
    "then behaving optimally in all subsequent periods\n",
    "\n",
    "That is,\n",
    "\n",
    "\n",
    "<a id='equation-j1'></a>\n",
    "$$\n",
    "\\psi\n",
    "= c + \\beta\n",
    "    \\sum_{i=1}^n V(w_i) p_i \\tag{6}\n",
    "$$\n",
    "\n",
    "where $ V $ is the value function\n",
    "\n",
    "By the Bellman equation, we then have\n",
    "\n",
    "$$\n",
    "V(w_i)\n",
    "= \\max \\left\\{ \\frac{w_i}{1 - \\beta}, \\, \\psi \\right\\}\n",
    "$$\n",
    "\n",
    "Substituting this last equation into [(6)](#equation-j1) gives\n",
    "\n",
    "\n",
    "<a id='equation-j2'></a>\n",
    "$$\n",
    "\\psi\n",
    "= c + \\beta\n",
    "    \\sum_{i=1}^n\n",
    "    \\max \\left\\{\n",
    "        \\frac{w_i}{1 - \\beta}, \\psi\n",
    "    \\right\\}  p_i \\tag{7}\n",
    "$$\n",
    "\n",
    "Which we could also write as $ \\psi = T_{\\psi}(\\psi) $ for the appropriate operator\n",
    "\n",
    "This is a nonlinear equation that we can solve for $ \\psi $\n",
    "\n",
    "One solution method for this kind of nonlinear equation is iterative\n",
    "\n",
    "That is,\n",
    "\n",
    "Step 1: pick an initial guess $ \\psi $\n",
    "\n",
    "Step 2: compute the update $ \\psi' $ via\n",
    "\n",
    "\n",
    "<a id='equation-j3'></a>\n",
    "$$\n",
    "\\psi'\n",
    "= c + \\beta\n",
    "    \\sum_{i=1}^n\n",
    "    \\max \\left\\{\n",
    "        \\frac{w_i}{1 - \\beta}, \\psi\n",
    "    \\right\\}  p_i \\tag{8}\n",
    "$$\n",
    "\n",
    "Step 3: calculate the deviation $ |\\psi - \\psi'| $\n",
    "\n",
    "Step 4: if the deviation is larger than some fixed tolerance, set $ \\psi = \\psi' $ and go to step 2, else continue\n",
    "\n",
    "Step 5: return $ \\psi $\n",
    "\n",
    "Once again, one can use the Banach contraction mapping theorem to show that this process always converges\n",
    "\n",
    "The big difference here, however, is that we’re iterating on a single number, rather than an $ n $-vector\n",
    "\n",
    "Here’s an implementation:"
   ]
  },
  {
   "cell_type": "code",
   "execution_count": 12,
   "metadata": {
    "hide-output": false
   },
   "outputs": [
    {
     "data": {
      "text/plain": [
       "47.093334768880766"
      ]
     },
     "execution_count": 12,
     "metadata": {},
     "output_type": "execute_result"
    }
   ],
   "source": [
    "function compute_reservation_wage_ψ(c, β; ψ_iv = E * w ./ (1 - β), max_iter = 500,\n",
    "                                    tol = 1e-5)\n",
    "    T_ψ(ψ) = [c + β * E*max.((w ./ (1 - β)), ψ[1])] # (7)\n",
    "    # using vectors since fixedpoint doesn't support scalar\n",
    "    ψ_star = fixedpoint(T_ψ, [ψ_iv]).zero[1]\n",
    "    return (1 - β) * (c + β * ψ_star) # (2)\n",
    "end\n",
    "compute_reservation_wage_ψ(c, β)"
   ]
  },
  {
   "cell_type": "markdown",
   "metadata": {},
   "source": [
    "You can use this code to solve the exercise below\n",
    "\n",
    "Another option is to solve for the root of the  $ T_{\\psi}(\\psi) - \\psi $ equation"
   ]
  },
  {
   "cell_type": "code",
   "execution_count": 13,
   "metadata": {
    "hide-output": false
   },
   "outputs": [
    {
     "data": {
      "text/plain": [
       "47.0933347688807"
      ]
     },
     "execution_count": 13,
     "metadata": {},
     "output_type": "execute_result"
    }
   ],
   "source": [
    "function compute_reservation_wage_ψ2(c, β; ψ_iv = E * w ./ (1 - β), max_iter = 500,\n",
    "                                     tol = 1e-5)\n",
    "    root_ψ(ψ) = c + β * E*max.((w ./ (1 - β)), ψ) - ψ # (7)\n",
    "    ψ_star = find_zero(root_ψ, ψ_iv)\n",
    "    return (1 - β) * (c + β * ψ_star) # (2)\n",
    "end\n",
    "compute_reservation_wage_ψ2(c, β)"
   ]
  },
  {
   "cell_type": "markdown",
   "metadata": {},
   "source": [
    "## Exercises"
   ]
  },
  {
   "cell_type": "markdown",
   "metadata": {},
   "source": [
    "### Exercise 1\n",
    "\n",
    "Compute the average duration of unemployment when $ \\beta=0.99 $ and\n",
    "$ c $ takes the following values\n",
    "\n",
    "> `c_vals = range(10, 40, length = 25)`\n",
    "\n",
    "\n",
    "That is, start the agent off as unemployed, computed their reservation wage\n",
    "given the parameters, and then simulate to see how long it takes to accept\n",
    "\n",
    "Repeat a large number of times and take the average\n",
    "\n",
    "Plot mean unemployment duration as a function of $ c $ in `c_vals`"
   ]
  },
  {
   "cell_type": "markdown",
   "metadata": {},
   "source": [
    "## Solutions"
   ]
  },
  {
   "cell_type": "markdown",
   "metadata": {},
   "source": [
    "### Exercise 1\n",
    "\n",
    "Here’s one solution"
   ]
  },
  {
   "cell_type": "code",
   "execution_count": 14,
   "metadata": {
    "hide-output": false
   },
   "outputs": [
    {
     "data": {
      "image/png": "[encoded data removed]"
     },
     "execution_count": 14,
     "metadata": {},
     "output_type": "execute_result"
    }
   ],
   "source": [
    "function compute_stopping_time(w̄; seed=1234)\n",
    "    Random.seed!(seed)\n",
    "    stopping_time = 0\n",
    "    t = 1\n",
    "    # make sure the constraint is sometimes binding\n",
    "    @assert length(w) - 1 ∈ support(dist) && w̄ <= w[end]\n",
    "    while true\n",
    "        # Generate a wage draw\n",
    "        w_val = w[rand(dist)] # the wage dist set up earlier\n",
    "        if w_val ≥ w̄\n",
    "            stopping_time = t\n",
    "            break\n",
    "        else\n",
    "            t += 1\n",
    "        end\n",
    "    end\n",
    "    return stopping_time\n",
    "end\n",
    "\n",
    "compute_mean_stopping_time(w̄, num_reps=10000) = mean(i ->\n",
    "                                                         compute_stopping_time(w̄,\n",
    "                                                         seed = i), 1:num_reps)\n",
    "c_vals = range(10,  40, length = 25)\n",
    "stop_times = similar(c_vals)\n",
    "\n",
    "beta = 0.99\n",
    "for (i, c) in enumerate(c_vals)\n",
    "    w̄ = compute_reservation_wage_ψ(c, beta)\n",
    "    stop_times[i] = compute_mean_stopping_time(w̄)\n",
    "end\n",
    "\n",
    "plot(c_vals, stop_times, label = \"mean unemployment duration\",\n",
    "     xlabel = \"unemployment compensation\", ylabel = \"months\")"
   ]
  }
 ],
 "metadata": {
  "download_nb": true,
  "download_nb_path": "https://lectures.quantecon.org/",
  "filename": "mccall_model.rst",
  "filename_with_path": "dynamic_programming/mccall_model",
  "kernelspec": {
   "display_name": "Julia 1.1.0",
   "language": "julia",
   "name": "julia-1.1"
  },
  "language_info": {
   "file_extension": ".jl",
   "mimetype": "application/julia",
   "name": "julia",
   "version": "1.1.0"
  },
  "title": "Job Search I: The McCall Search Model"
 },
 "nbformat": 4,
 "nbformat_minor": 2
}

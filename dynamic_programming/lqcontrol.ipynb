version https://git-lfs.github.com/spec/v1
oid sha256:954214485726a439cc6cb43144eb1aed00cd3a950bd45bb30eecdbcd832f9c06
size 62048
